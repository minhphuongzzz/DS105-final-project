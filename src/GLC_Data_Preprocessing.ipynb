{
  "nbformat": 4,
  "nbformat_minor": 0,
  "metadata": {
    "colab": {
      "name": "GLC_Data_Preprocessing.ipynb",
      "provenance": [],
      "collapsed_sections": [
        "I09sxdAkawmn",
        "awbSnPlPKznC"
      ],
      "toc_visible": true
    },
    "kernelspec": {
      "name": "python3",
      "display_name": "Python 3"
    },
    "language_info": {
      "name": "python"
    }
  },
  "cells": [
    {
      "cell_type": "markdown",
      "metadata": {
        "id": "gcCHRLVspgtm"
      },
      "source": [
        "* Output của notebook này là GLC_final.csv sau khi được xử lý toàn bộ và bao gồm cả data weather và các thuộc tính thu thập thêm\n",
        "* File .csv của từng step sẽ được lưu lại để thực hiện các bước sau "
      ]
    },
    {
      "cell_type": "code",
      "metadata": {
        "id": "4PFekCWDljhh"
      },
      "source": [
        "!pip install geopy\n",
        "\n",
        "import pandas as pd\n",
        "import numpy as np\n",
        "import datetime as dt\n",
        "import re\n",
        "\n",
        "from geopy.geocoders import Nominatim"
      ],
      "execution_count": null,
      "outputs": []
    },
    {
      "cell_type": "markdown",
      "metadata": {
        "id": "Z5KWlregqlgr"
      },
      "source": [
        "* Đọc file .csv (hãy thay đổi đường dẫn của data phù hợp để xử lý bước tiếp theo)"
      ]
    },
    {
      "cell_type": "code",
      "metadata": {
        "id": "jvfb_OEfnYnu"
      },
      "source": [
        "path = '/content/GLC_preprocessed_1.csv'\n",
        "df = pd.read_csv(path)"
      ],
      "execution_count": null,
      "outputs": []
    },
    {
      "cell_type": "markdown",
      "metadata": {
        "id": "I09sxdAkawmn"
      },
      "source": [
        "# 1. Preprocessing Country Name and Datetime"
      ]
    },
    {
      "cell_type": "markdown",
      "metadata": {
        "id": "fTjbdAwIp_od"
      },
      "source": [
        "1.1. Preprocessing Country_name"
      ]
    },
    {
      "cell_type": "markdown",
      "metadata": {
        "id": "dEphg8XZbGOb"
      },
      "source": [
        "Dealing with missing value (turn on GPU to run probably)\n",
        "\n",
        "*   Estimated time: 13 minutes\n",
        "\n"
      ]
    },
    {
      "cell_type": "code",
      "metadata": {
        "id": "3v2lss7GcVZp"
      },
      "source": [
        "df['country_name'].isnull().sum()"
      ],
      "execution_count": null,
      "outputs": []
    },
    {
      "cell_type": "code",
      "metadata": {
        "id": "wH_8h3MCa1Ah"
      },
      "source": [
        "m_c_index = df[df['country_name'].isnull()==True].index\n",
        "\n",
        "geolocator = Nominatim(user_agent=\"geoapiExercises\",timeout=None)\n",
        "\n",
        "for i in m_c_index:\n",
        "  Latitude = df.loc[i,'latitude']\n",
        "  Longitude = df.loc[i,'longitude']\n",
        "  location = geolocator.reverse(str(Latitude)+\",\"+str(Longitude),language='en')\n",
        "  address = location.raw['address']\n",
        "  df.at[i,'country_name']=address['country']"
      ],
      "execution_count": null,
      "outputs": []
    },
    {
      "cell_type": "code",
      "metadata": {
        "id": "g6Huc2ZLeA08"
      },
      "source": [
        "df['country_name'].isnull().sum()"
      ],
      "execution_count": null,
      "outputs": []
    },
    {
      "cell_type": "code",
      "metadata": {
        "id": "iC5F1LRQlh-u"
      },
      "source": [
        "df = df.replace({'country_name':{'Myanmar [Burma]':'Myanmar',\n",
        "                                 'U.S. Virgin Islands':'United States Virgin Islands'}})"
      ],
      "execution_count": null,
      "outputs": []
    },
    {
      "cell_type": "markdown",
      "metadata": {
        "id": "iS1LO25yiPeM"
      },
      "source": [
        "1.2. Preprocessing Datetime"
      ]
    },
    {
      "cell_type": "code",
      "metadata": {
        "id": "R5Gagx4JiY_T"
      },
      "source": [
        "df['event_date'] = pd.to_datetime(df['event_date'],format='%m/%d/%Y %I:%M:%S %p',dayfirst=True)\n",
        "df['created_date'] = pd.to_datetime(df['created_date'],format='%m/%d/%Y %I:%M:%S %p',dayfirst=True)\n",
        "df['last_edited_date'] = pd.to_datetime(df['last_edited_date'],format='%m/%d/%Y %I:%M:%S %p',dayfirst=True)\n",
        "\n",
        "df.to_csv('GLC_preprocessed_1.csv',index=False)"
      ],
      "execution_count": null,
      "outputs": []
    },
    {
      "cell_type": "markdown",
      "metadata": {
        "id": "awbSnPlPKznC"
      },
      "source": [
        "# 2. Cut down unnecessary attributes and merge Lat-Long"
      ]
    },
    {
      "cell_type": "code",
      "metadata": {
        "id": "v6jMlqXwsI0S"
      },
      "source": [
        "df[\"geolocation\"] = list(zip(df[\"latitude\"],df[\"longitude\"]))\n",
        "\n",
        "df = df.drop(['source_name','source_link','event_time','photo_link', 'notes','event_import_source',\n",
        "               'event_import_id','submitted_date', 'created_date', 'last_edited_date','longitude','latitude'],axis=1)\n",
        "\n",
        "df.to_csv('GLC_preprocessed_2.csv',index=False)"
      ],
      "execution_count": null,
      "outputs": []
    }
  ]
}