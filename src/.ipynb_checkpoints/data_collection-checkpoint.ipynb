{
 "cells": [
  {
   "cell_type": "code",
   "execution_count": 1,
   "metadata": {
    "cell_id": "00000-00bc934a-70f6-4686-bc6b-654f9e589cc0",
    "deepnote_cell_type": "code",
    "deepnote_to_be_reexecuted": false,
    "execution_millis": 6629,
    "execution_start": 1638069771859,
    "source_hash": "d483d427",
    "tags": []
   },
   "outputs": [
    {
     "name": "stdout",
     "output_type": "stream",
     "text": [
      "Collecting geopy\n",
      "  Downloading geopy-2.2.0-py3-none-any.whl (118 kB)\n",
      "\u001b[K     |████████████████████████████████| 118 kB 10.4 MB/s \n",
      "\u001b[?25hCollecting geographiclib<2,>=1.49\n",
      "  Downloading geographiclib-1.52-py3-none-any.whl (38 kB)\n",
      "Installing collected packages: geographiclib, geopy\n",
      "Successfully installed geographiclib-1.52 geopy-2.2.0\n",
      "\u001b[33mWARNING: You are using pip version 21.2.3; however, version 21.3.1 is available.\n",
      "You should consider upgrading via the '/root/venv/bin/python -m pip install --upgrade pip' command.\u001b[0m\n"
     ]
    }
   ],
   "source": [
    "!pip install geopy\n",
    "!pip install geemap\n",
    "\n",
    "import numpy as np\n",
    "import datetime as dt\n",
    "import re\n",
    "from geopy.geocoders import Nominatim\n",
    "import requests\n",
    "import pandas as pd\n",
    "from collections import defaultdict\n",
    "import os\n",
    "import glob"
   ]
  },
  {
   "cell_type": "code",
   "execution_count": null,
   "metadata": {
    "cell_id": "00000-e90a2249-b816-4537-883d-dd891990f98b",
    "deepnote_cell_type": "code",
    "deepnote_to_be_reexecuted": false,
    "execution_millis": 155,
    "execution_start": 1638025898938,
    "source_hash": "51b173b5",
    "tags": []
   },
   "outputs": [],
   "source": [
    "df = pd.read_csv('/work/data/landslide/Global_Landslide_Catalog_Export.csv')"
   ]
  },
  {
   "cell_type": "markdown",
   "metadata": {
    "cell_id": "00001-9ba9113a-f91f-4e77-ae94-2c8d7c90d8cd",
    "deepnote_cell_type": "text-cell-h1",
    "is_collapsed": true,
    "tags": []
   },
   "source": [
    "# Preprocess before collecting data"
   ]
  },
  {
   "cell_type": "markdown",
   "metadata": {
    "cell_id": "00002-6577f322-7142-45a0-a488-a777e7e90263",
    "deepnote_cell_type": "text-cell-h3",
    "is_collapsed": false,
    "tags": []
   },
   "source": [
    "### &nbsp;Preprocessing country_name"
   ]
  },
  {
   "cell_type": "code",
   "execution_count": null,
   "metadata": {
    "cell_id": "00004-6198580f-0c19-4507-b091-fdece71d5c42",
    "deepnote_cell_type": "code",
    "tags": []
   },
   "outputs": [],
   "source": [
    "df['country_name'].isnull().sum()"
   ]
  },
  {
   "cell_type": "code",
   "execution_count": null,
   "metadata": {
    "cell_id": "00002-e3d3a1c1-d50c-453a-8cb6-796c200de59d",
    "deepnote_cell_type": "code",
    "tags": []
   },
   "outputs": [],
   "source": [
    "m_c_index = df[df['country_name'].isnull()==True].index\n",
    "\n",
    "geolocator = Nominatim(user_agent=\"geoapiExercises\",timeout=None)\n",
    "\n",
    "for i in m_c_index:\n",
    "  Latitude = df.loc[i,'latitude']\n",
    "  Longitude = df.loc[i,'longitude']\n",
    "  location = geolocator.reverse(str(Latitude)+\",\"+str(Longitude),language='en')\n",
    "  address = location.raw['address']\n",
    "  df.at[i,'country_name']=address['country']"
   ]
  },
  {
   "cell_type": "code",
   "execution_count": null,
   "metadata": {
    "cell_id": "00004-d3bdb902-4340-4130-9ee3-6b842914ea56",
    "deepnote_cell_type": "code",
    "tags": []
   },
   "outputs": [],
   "source": [
    "df = df.replace({'country_name':{'Myanmar [Burma]':'Myanmar',\n",
    "                                 'U.S. Virgin Islands':'United States Virgin Islands'}})\n",
    "df['country_name'].isnull().sum()"
   ]
  },
  {
   "cell_type": "markdown",
   "metadata": {
    "cell_id": "00005-7e523a79-a3a3-4662-a6d5-5a45fe2c14b0",
    "deepnote_cell_type": "text-cell-h3",
    "is_collapsed": false,
    "tags": []
   },
   "source": [
    "### Preprocess data_time"
   ]
  },
  {
   "cell_type": "code",
   "execution_count": null,
   "metadata": {
    "cell_id": "00005-11d0b944-594f-4a9b-b0d2-55a17cc4b803",
    "deepnote_cell_type": "code",
    "deepnote_to_be_reexecuted": false,
    "execution_millis": 90,
    "execution_start": 1638025902379,
    "source_hash": "1347a07e",
    "tags": []
   },
   "outputs": [],
   "source": [
    "df['event_date'] = pd.to_datetime(df['event_date'],format='%m/%d/%Y %I:%M:%S %p',dayfirst=True)\n",
    "df['created_date'] = pd.to_datetime(df['created_date'],format='%m/%d/%Y %I:%M:%S %p',dayfirst=True)\n",
    "df['last_edited_date'] = pd.to_datetime(df['last_edited_date'],format='%m/%d/%Y %I:%M:%S %p',dayfirst=True)"
   ]
  },
  {
   "cell_type": "markdown",
   "metadata": {
    "cell_id": "00002-f3a0473b-e518-46d6-809f-b604a2ca6263",
    "deepnote_cell_type": "text-cell-h1",
    "is_collapsed": false,
    "tags": []
   },
   "source": [
    "# Features Collection"
   ]
  },
  {
   "cell_type": "markdown",
   "metadata": {
    "cell_id": "00002-1153066d-3f00-4f4c-b202-0266a9e14c99",
    "deepnote_cell_type": "text-cell-h3",
    "is_collapsed": false,
    "tags": []
   },
   "source": [
    "### Weather"
   ]
  },
  {
   "cell_type": "code",
   "execution_count": null,
   "metadata": {
    "cell_id": "00001-a61f90bb-9d1e-4127-8e21-6247116fd8e6",
    "deepnote_cell_type": "code",
    "tags": []
   },
   "outputs": [],
   "source": [
    "weather = defaultdict(list)\n",
    "API = 'F87HGQJ8MRULVGLM7QGQWKW6E'\n",
    "\n",
    "for i in range(df.shape[0]):\n",
    "  print(i)\n",
    "  date = df['event_date'][i][:10]\n",
    "  lat = df['latitude'][i]\n",
    "  long_ = df['longitude'][i]\n",
    "\n",
    "  response = requests.get(\"https://weather.visualcrossing.com/VisualCrossingWebServices/rest/services/timeline/{},{}/{}?unitGroup=metric&key={}&include=obs\".format(lat,long_,date,API))\n",
    "  res = response.json()\n",
    "  weather_data = res['days'][0]\n",
    "  for key, val in weather_data.items():\n",
    "      weather[key].append(val)"
   ]
  },
  {
   "cell_type": "code",
   "execution_count": null,
   "metadata": {
    "cell_id": "00004-85a420db-14a8-45bc-8ff5-aa5c16dccab7",
    "deepnote_cell_type": "code",
    "tags": []
   },
   "outputs": [],
   "source": [
    "weather.pop('source')\n",
    "weather_df = pd.DataFrame(weather)\n",
    "weather_df.insert(loc=0, column='event_id', value=df['event_id'])\n",
    "weather_df.to_csv('/work/data/features/weather_full.csv',index=False)"
   ]
  },
  {
   "cell_type": "markdown",
   "metadata": {
    "cell_id": "00006-6ea990bf-2fef-4270-a175-836dc347ade7",
    "deepnote_cell_type": "text-cell-h3",
    "is_collapsed": true,
    "tags": []
   },
   "source": [
    "### Elevation"
   ]
  },
  {
   "cell_type": "code",
   "execution_count": null,
   "metadata": {
    "cell_id": "00006-96b115b1-f45a-424d-a84c-a9dd82a77d29",
    "deepnote_cell_type": "code",
    "tags": []
   },
   "outputs": [],
   "source": [
    "def get_elevation2(lat, long_):\n",
    "    query = ('https://api.airmap.com/elevation/v1/ele/?points={},{}'.format(lat,long_))\n",
    "    r = requests.get(query).json()\n",
    "    return r['data'][0]"
   ]
  },
  {
   "cell_type": "code",
   "execution_count": null,
   "metadata": {
    "cell_id": "00005-a75076a3-b53e-441a-90d1-dff4ee885bae",
    "deepnote_cell_type": "code",
    "tags": []
   },
   "outputs": [],
   "source": [
    "elevation = []\n",
    "for i in range(df.shape[0]):\n",
    "    print(i)\n",
    "    lat, long_ = df['latitude'][i],df['longitude'][i]\n",
    "    l = get_elevation2(lat,long_)\n",
    "    elevation.append(l)"
   ]
  },
  {
   "cell_type": "code",
   "execution_count": null,
   "metadata": {
    "cell_id": "00009-1f5d1f4d-2443-43d8-a80b-c3fb93a57a3e",
    "deepnote_cell_type": "code",
    "tags": []
   },
   "outputs": [],
   "source": [
    "elevation_df = pd.DataFrame({'elevation':elevation})\n",
    "elevation_df.to_csv('/work/data/features/elevation.csv',index=False)"
   ]
  },
  {
   "cell_type": "markdown",
   "metadata": {
    "cell_id": "00010-96e39856-a909-450e-8720-5d465c8e094a",
    "deepnote_cell_type": "text-cell-h3",
    "is_collapsed": true,
    "tags": []
   },
   "source": [
    "### Continent"
   ]
  },
  {
   "cell_type": "code",
   "execution_count": null,
   "metadata": {
    "cell_id": "00010-920817a4-4f87-4676-b4ff-2e151b9a0c40",
    "deepnote_cell_type": "code",
    "tags": []
   },
   "outputs": [],
   "source": [
    "!pip install pycountry_convert\n",
    "import pycountry_convert as pc\n",
    "\n",
    "def country_to_continent(country_name):\n",
    "    country_alpha2 = pc.country_name_to_country_alpha2(country_name)\n",
    "    country_continent_code = pc.country_alpha2_to_continent_code(country_alpha2)\n",
    "    country_continent_name = pc.convert_continent_code_to_continent_name(country_continent_code)\n",
    "    return country_continent_name\n",
    "\n",
    "# get continent\n",
    "continents = []\n",
    "for i in df['country_name']:\n",
    "  print(i)\n",
    "  if(i=='East Timor'):\n",
    "    continents.append('Asia')\n",
    "  else:\n",
    "    continents.append(country_to_continent(i))"
   ]
  },
  {
   "cell_type": "code",
   "execution_count": null,
   "metadata": {
    "cell_id": "00019-c8ae62ed-a983-44f1-b908-322610396424",
    "deepnote_cell_type": "code",
    "tags": []
   },
   "outputs": [],
   "source": [
    "continents = pd.DataFrame({'continent':continents})\n",
    "continents.to_csv('/work/data/features/continents.csv',index=False)"
   ]
  },
  {
   "cell_type": "markdown",
   "metadata": {
    "cell_id": "00020-53afe46f-08da-4ca5-b0ee-b678341981fd",
    "deepnote_cell_type": "text-cell-h3",
    "is_collapsed": true,
    "tags": []
   },
   "source": [
    "### Season"
   ]
  },
  {
   "cell_type": "code",
   "execution_count": null,
   "metadata": {
    "cell_id": "00020-c7a34075-fe09-40dd-9766-d871ffe802de",
    "deepnote_cell_type": "code",
    "deepnote_to_be_reexecuted": false,
    "execution_millis": 47124,
    "execution_start": 1638025909274,
    "source_hash": "cbb5902e",
    "tags": []
   },
   "outputs": [
    {
     "data": {
      "application/vnd.deepnote.dataframe.v2+json": {
       "column_count": 1,
       "columns": [
        {
         "dtype": "object",
         "name": "season",
         "stats": {
          "categories": [
           {
            "count": 3732,
            "name": "summer"
           },
           {
            "count": 2522,
            "name": "winter"
           },
           {
            "count": 4779,
            "name": "2 others"
           }
          ],
          "nan_count": 0,
          "unique_count": 4
         }
        },
        {
         "dtype": "int64",
         "name": "_deepnote_index_column"
        }
       ],
       "row_count": 11033,
       "rows_bottom": [
        {
         "_deepnote_index_column": 10533,
         "season": "autumn"
        },
        {
         "_deepnote_index_column": 10534,
         "season": "spring"
        },
        {
         "_deepnote_index_column": 10535,
         "season": "spring"
        },
        {
         "_deepnote_index_column": 10536,
         "season": "winter"
        },
        {
         "_deepnote_index_column": 10537,
         "season": "spring"
        },
        {
         "_deepnote_index_column": 10538,
         "season": "spring"
        },
        {
         "_deepnote_index_column": 10539,
         "season": "spring"
        },
        {
         "_deepnote_index_column": 10540,
         "season": "spring"
        },
        {
         "_deepnote_index_column": 10541,
         "season": "spring"
        },
        {
         "_deepnote_index_column": 10542,
         "season": "autumn"
        },
        {
         "_deepnote_index_column": 10543,
         "season": "spring"
        },
        {
         "_deepnote_index_column": 10544,
         "season": "winter"
        },
        {
         "_deepnote_index_column": 10545,
         "season": "summer"
        },
        {
         "_deepnote_index_column": 10546,
         "season": "winter"
        },
        {
         "_deepnote_index_column": 10547,
         "season": "spring"
        },
        {
         "_deepnote_index_column": 10548,
         "season": "winter"
        },
        {
         "_deepnote_index_column": 10549,
         "season": "spring"
        },
        {
         "_deepnote_index_column": 10550,
         "season": "summer"
        },
        {
         "_deepnote_index_column": 10551,
         "season": "summer"
        },
        {
         "_deepnote_index_column": 10552,
         "season": "winter"
        },
        {
         "_deepnote_index_column": 10553,
         "season": "winter"
        },
        {
         "_deepnote_index_column": 10554,
         "season": "winter"
        },
        {
         "_deepnote_index_column": 10555,
         "season": "spring"
        },
        {
         "_deepnote_index_column": 10556,
         "season": "winter"
        },
        {
         "_deepnote_index_column": 10557,
         "season": "winter"
        },
        {
         "_deepnote_index_column": 10558,
         "season": "spring"
        },
        {
         "_deepnote_index_column": 10559,
         "season": "summer"
        },
        {
         "_deepnote_index_column": 10560,
         "season": "summer"
        },
        {
         "_deepnote_index_column": 10561,
         "season": "spring"
        },
        {
         "_deepnote_index_column": 10562,
         "season": "winter"
        },
        {
         "_deepnote_index_column": 10563,
         "season": "spring"
        },
        {
         "_deepnote_index_column": 10564,
         "season": "winter"
        },
        {
         "_deepnote_index_column": 10565,
         "season": "spring"
        },
        {
         "_deepnote_index_column": 10566,
         "season": "summer"
        },
        {
         "_deepnote_index_column": 10567,
         "season": "spring"
        },
        {
         "_deepnote_index_column": 10568,
         "season": "winter"
        },
        {
         "_deepnote_index_column": 10569,
         "season": "summer"
        },
        {
         "_deepnote_index_column": 10570,
         "season": "summer"
        },
        {
         "_deepnote_index_column": 10571,
         "season": "summer"
        },
        {
         "_deepnote_index_column": 10572,
         "season": "winter"
        },
        {
         "_deepnote_index_column": 10573,
         "season": "autumn"
        },
        {
         "_deepnote_index_column": 10574,
         "season": "winter"
        },
        {
         "_deepnote_index_column": 10575,
         "season": "winter"
        },
        {
         "_deepnote_index_column": 10576,
         "season": "winter"
        },
        {
         "_deepnote_index_column": 10577,
         "season": "summer"
        },
        {
         "_deepnote_index_column": 10578,
         "season": "winter"
        },
        {
         "_deepnote_index_column": 10579,
         "season": "spring"
        },
        {
         "_deepnote_index_column": 10580,
         "season": "spring"
        },
        {
         "_deepnote_index_column": 10581,
         "season": "spring"
        },
        {
         "_deepnote_index_column": 10582,
         "season": "spring"
        },
        {
         "_deepnote_index_column": 10583,
         "season": "winter"
        },
        {
         "_deepnote_index_column": 10584,
         "season": "spring"
        },
        {
         "_deepnote_index_column": 10585,
         "season": "summer"
        },
        {
         "_deepnote_index_column": 10586,
         "season": "spring"
        },
        {
         "_deepnote_index_column": 10587,
         "season": "winter"
        },
        {
         "_deepnote_index_column": 10588,
         "season": "summer"
        },
        {
         "_deepnote_index_column": 10589,
         "season": "spring"
        },
        {
         "_deepnote_index_column": 10590,
         "season": "spring"
        },
        {
         "_deepnote_index_column": 10591,
         "season": "spring"
        },
        {
         "_deepnote_index_column": 10592,
         "season": "spring"
        },
        {
         "_deepnote_index_column": 10593,
         "season": "summer"
        },
        {
         "_deepnote_index_column": 10594,
         "season": "winter"
        },
        {
         "_deepnote_index_column": 10595,
         "season": "autumn"
        },
        {
         "_deepnote_index_column": 10596,
         "season": "autumn"
        },
        {
         "_deepnote_index_column": 10597,
         "season": "winter"
        },
        {
         "_deepnote_index_column": 10598,
         "season": "winter"
        },
        {
         "_deepnote_index_column": 10599,
         "season": "summer"
        },
        {
         "_deepnote_index_column": 10600,
         "season": "winter"
        },
        {
         "_deepnote_index_column": 10601,
         "season": "winter"
        },
        {
         "_deepnote_index_column": 10602,
         "season": "winter"
        },
        {
         "_deepnote_index_column": 10603,
         "season": "spring"
        },
        {
         "_deepnote_index_column": 10604,
         "season": "autumn"
        },
        {
         "_deepnote_index_column": 10605,
         "season": "spring"
        },
        {
         "_deepnote_index_column": 10606,
         "season": "autumn"
        },
        {
         "_deepnote_index_column": 10607,
         "season": "autumn"
        },
        {
         "_deepnote_index_column": 10608,
         "season": "summer"
        },
        {
         "_deepnote_index_column": 10609,
         "season": "winter"
        },
        {
         "_deepnote_index_column": 10610,
         "season": "winter"
        },
        {
         "_deepnote_index_column": 10611,
         "season": "spring"
        },
        {
         "_deepnote_index_column": 10612,
         "season": "spring"
        },
        {
         "_deepnote_index_column": 10613,
         "season": "winter"
        },
        {
         "_deepnote_index_column": 10614,
         "season": "autumn"
        },
        {
         "_deepnote_index_column": 10615,
         "season": "winter"
        },
        {
         "_deepnote_index_column": 10616,
         "season": "spring"
        },
        {
         "_deepnote_index_column": 10617,
         "season": "winter"
        },
        {
         "_deepnote_index_column": 10618,
         "season": "spring"
        },
        {
         "_deepnote_index_column": 10619,
         "season": "autumn"
        },
        {
         "_deepnote_index_column": 10620,
         "season": "spring"
        },
        {
         "_deepnote_index_column": 10621,
         "season": "winter"
        },
        {
         "_deepnote_index_column": 10622,
         "season": "winter"
        },
        {
         "_deepnote_index_column": 10623,
         "season": "spring"
        },
        {
         "_deepnote_index_column": 10624,
         "season": "winter"
        },
        {
         "_deepnote_index_column": 10625,
         "season": "winter"
        },
        {
         "_deepnote_index_column": 10626,
         "season": "winter"
        },
        {
         "_deepnote_index_column": 10627,
         "season": "summer"
        },
        {
         "_deepnote_index_column": 10628,
         "season": "summer"
        },
        {
         "_deepnote_index_column": 10629,
         "season": "winter"
        },
        {
         "_deepnote_index_column": 10630,
         "season": "winter"
        },
        {
         "_deepnote_index_column": 10631,
         "season": "winter"
        },
        {
         "_deepnote_index_column": 10632,
         "season": "winter"
        },
        {
         "_deepnote_index_column": 10633,
         "season": "winter"
        },
        {
         "_deepnote_index_column": 10634,
         "season": "summer"
        },
        {
         "_deepnote_index_column": 10635,
         "season": "spring"
        },
        {
         "_deepnote_index_column": 10636,
         "season": "summer"
        },
        {
         "_deepnote_index_column": 10637,
         "season": "spring"
        },
        {
         "_deepnote_index_column": 10638,
         "season": "summer"
        },
        {
         "_deepnote_index_column": 10639,
         "season": "winter"
        },
        {
         "_deepnote_index_column": 10640,
         "season": "spring"
        },
        {
         "_deepnote_index_column": 10641,
         "season": "autumn"
        },
        {
         "_deepnote_index_column": 10642,
         "season": "spring"
        },
        {
         "_deepnote_index_column": 10643,
         "season": "spring"
        },
        {
         "_deepnote_index_column": 10644,
         "season": "winter"
        },
        {
         "_deepnote_index_column": 10645,
         "season": "winter"
        },
        {
         "_deepnote_index_column": 10646,
         "season": "summer"
        },
        {
         "_deepnote_index_column": 10647,
         "season": "spring"
        },
        {
         "_deepnote_index_column": 10648,
         "season": "spring"
        },
        {
         "_deepnote_index_column": 10649,
         "season": "winter"
        },
        {
         "_deepnote_index_column": 10650,
         "season": "autumn"
        },
        {
         "_deepnote_index_column": 10651,
         "season": "winter"
        },
        {
         "_deepnote_index_column": 10652,
         "season": "autumn"
        },
        {
         "_deepnote_index_column": 10653,
         "season": "autumn"
        },
        {
         "_deepnote_index_column": 10654,
         "season": "winter"
        },
        {
         "_deepnote_index_column": 10655,
         "season": "autumn"
        },
        {
         "_deepnote_index_column": 10656,
         "season": "summer"
        },
        {
         "_deepnote_index_column": 10657,
         "season": "winter"
        },
        {
         "_deepnote_index_column": 10658,
         "season": "summer"
        },
        {
         "_deepnote_index_column": 10659,
         "season": "spring"
        },
        {
         "_deepnote_index_column": 10660,
         "season": "spring"
        },
        {
         "_deepnote_index_column": 10661,
         "season": "winter"
        },
        {
         "_deepnote_index_column": 10662,
         "season": "spring"
        },
        {
         "_deepnote_index_column": 10663,
         "season": "winter"
        },
        {
         "_deepnote_index_column": 10664,
         "season": "winter"
        },
        {
         "_deepnote_index_column": 10665,
         "season": "spring"
        },
        {
         "_deepnote_index_column": 10666,
         "season": "winter"
        },
        {
         "_deepnote_index_column": 10667,
         "season": "winter"
        },
        {
         "_deepnote_index_column": 10668,
         "season": "autumn"
        },
        {
         "_deepnote_index_column": 10669,
         "season": "winter"
        },
        {
         "_deepnote_index_column": 10670,
         "season": "summer"
        },
        {
         "_deepnote_index_column": 10671,
         "season": "winter"
        },
        {
         "_deepnote_index_column": 10672,
         "season": "winter"
        },
        {
         "_deepnote_index_column": 10673,
         "season": "autumn"
        },
        {
         "_deepnote_index_column": 10674,
         "season": "spring"
        },
        {
         "_deepnote_index_column": 10675,
         "season": "spring"
        },
        {
         "_deepnote_index_column": 10676,
         "season": "summer"
        },
        {
         "_deepnote_index_column": 10677,
         "season": "winter"
        },
        {
         "_deepnote_index_column": 10678,
         "season": "winter"
        },
        {
         "_deepnote_index_column": 10679,
         "season": "winter"
        },
        {
         "_deepnote_index_column": 10680,
         "season": "winter"
        },
        {
         "_deepnote_index_column": 10681,
         "season": "winter"
        },
        {
         "_deepnote_index_column": 10682,
         "season": "winter"
        },
        {
         "_deepnote_index_column": 10683,
         "season": "winter"
        },
        {
         "_deepnote_index_column": 10684,
         "season": "winter"
        },
        {
         "_deepnote_index_column": 10685,
         "season": "winter"
        },
        {
         "_deepnote_index_column": 10686,
         "season": "summer"
        },
        {
         "_deepnote_index_column": 10687,
         "season": "spring"
        },
        {
         "_deepnote_index_column": 10688,
         "season": "autumn"
        },
        {
         "_deepnote_index_column": 10689,
         "season": "spring"
        },
        {
         "_deepnote_index_column": 10690,
         "season": "summer"
        },
        {
         "_deepnote_index_column": 10691,
         "season": "summer"
        },
        {
         "_deepnote_index_column": 10692,
         "season": "spring"
        },
        {
         "_deepnote_index_column": 10693,
         "season": "winter"
        },
        {
         "_deepnote_index_column": 10694,
         "season": "spring"
        },
        {
         "_deepnote_index_column": 10695,
         "season": "spring"
        },
        {
         "_deepnote_index_column": 10696,
         "season": "winter"
        },
        {
         "_deepnote_index_column": 10697,
         "season": "winter"
        },
        {
         "_deepnote_index_column": 10698,
         "season": "summer"
        },
        {
         "_deepnote_index_column": 10699,
         "season": "spring"
        },
        {
         "_deepnote_index_column": 10700,
         "season": "spring"
        },
        {
         "_deepnote_index_column": 10701,
         "season": "spring"
        },
        {
         "_deepnote_index_column": 10702,
         "season": "autumn"
        },
        {
         "_deepnote_index_column": 10703,
         "season": "winter"
        },
        {
         "_deepnote_index_column": 10704,
         "season": "spring"
        },
        {
         "_deepnote_index_column": 10705,
         "season": "autumn"
        },
        {
         "_deepnote_index_column": 10706,
         "season": "spring"
        },
        {
         "_deepnote_index_column": 10707,
         "season": "winter"
        },
        {
         "_deepnote_index_column": 10708,
         "season": "summer"
        },
        {
         "_deepnote_index_column": 10709,
         "season": "winter"
        },
        {
         "_deepnote_index_column": 10710,
         "season": "spring"
        },
        {
         "_deepnote_index_column": 10711,
         "season": "winter"
        },
        {
         "_deepnote_index_column": 10712,
         "season": "spring"
        },
        {
         "_deepnote_index_column": 10713,
         "season": "summer"
        },
        {
         "_deepnote_index_column": 10714,
         "season": "winter"
        },
        {
         "_deepnote_index_column": 10715,
         "season": "autumn"
        },
        {
         "_deepnote_index_column": 10716,
         "season": "spring"
        },
        {
         "_deepnote_index_column": 10717,
         "season": "summer"
        },
        {
         "_deepnote_index_column": 10718,
         "season": "spring"
        },
        {
         "_deepnote_index_column": 10719,
         "season": "winter"
        },
        {
         "_deepnote_index_column": 10720,
         "season": "winter"
        },
        {
         "_deepnote_index_column": 10721,
         "season": "summer"
        },
        {
         "_deepnote_index_column": 10722,
         "season": "winter"
        },
        {
         "_deepnote_index_column": 10723,
         "season": "spring"
        },
        {
         "_deepnote_index_column": 10724,
         "season": "autumn"
        },
        {
         "_deepnote_index_column": 10725,
         "season": "spring"
        },
        {
         "_deepnote_index_column": 10726,
         "season": "autumn"
        },
        {
         "_deepnote_index_column": 10727,
         "season": "spring"
        },
        {
         "_deepnote_index_column": 10728,
         "season": "spring"
        },
        {
         "_deepnote_index_column": 10729,
         "season": "spring"
        },
        {
         "_deepnote_index_column": 10730,
         "season": "spring"
        },
        {
         "_deepnote_index_column": 10731,
         "season": "winter"
        },
        {
         "_deepnote_index_column": 10732,
         "season": "winter"
        },
        {
         "_deepnote_index_column": 10733,
         "season": "spring"
        },
        {
         "_deepnote_index_column": 10734,
         "season": "winter"
        },
        {
         "_deepnote_index_column": 10735,
         "season": "spring"
        },
        {
         "_deepnote_index_column": 10736,
         "season": "spring"
        },
        {
         "_deepnote_index_column": 10737,
         "season": "spring"
        },
        {
         "_deepnote_index_column": 10738,
         "season": "spring"
        },
        {
         "_deepnote_index_column": 10739,
         "season": "spring"
        },
        {
         "_deepnote_index_column": 10740,
         "season": "winter"
        },
        {
         "_deepnote_index_column": 10741,
         "season": "summer"
        },
        {
         "_deepnote_index_column": 10742,
         "season": "winter"
        },
        {
         "_deepnote_index_column": 10743,
         "season": "winter"
        },
        {
         "_deepnote_index_column": 10744,
         "season": "autumn"
        },
        {
         "_deepnote_index_column": 10745,
         "season": "winter"
        },
        {
         "_deepnote_index_column": 10746,
         "season": "summer"
        },
        {
         "_deepnote_index_column": 10747,
         "season": "summer"
        },
        {
         "_deepnote_index_column": 10748,
         "season": "spring"
        },
        {
         "_deepnote_index_column": 10749,
         "season": "autumn"
        },
        {
         "_deepnote_index_column": 10750,
         "season": "spring"
        },
        {
         "_deepnote_index_column": 10751,
         "season": "winter"
        },
        {
         "_deepnote_index_column": 10752,
         "season": "autumn"
        },
        {
         "_deepnote_index_column": 10753,
         "season": "spring"
        },
        {
         "_deepnote_index_column": 10754,
         "season": "spring"
        },
        {
         "_deepnote_index_column": 10755,
         "season": "spring"
        },
        {
         "_deepnote_index_column": 10756,
         "season": "winter"
        },
        {
         "_deepnote_index_column": 10757,
         "season": "summer"
        },
        {
         "_deepnote_index_column": 10758,
         "season": "spring"
        },
        {
         "_deepnote_index_column": 10759,
         "season": "winter"
        },
        {
         "_deepnote_index_column": 10760,
         "season": "winter"
        },
        {
         "_deepnote_index_column": 10761,
         "season": "autumn"
        },
        {
         "_deepnote_index_column": 10762,
         "season": "winter"
        },
        {
         "_deepnote_index_column": 10763,
         "season": "spring"
        },
        {
         "_deepnote_index_column": 10764,
         "season": "autumn"
        },
        {
         "_deepnote_index_column": 10765,
         "season": "spring"
        },
        {
         "_deepnote_index_column": 10766,
         "season": "winter"
        },
        {
         "_deepnote_index_column": 10767,
         "season": "spring"
        },
        {
         "_deepnote_index_column": 10768,
         "season": "winter"
        },
        {
         "_deepnote_index_column": 10769,
         "season": "spring"
        },
        {
         "_deepnote_index_column": 10770,
         "season": "winter"
        },
        {
         "_deepnote_index_column": 10771,
         "season": "summer"
        },
        {
         "_deepnote_index_column": 10772,
         "season": "summer"
        },
        {
         "_deepnote_index_column": 10773,
         "season": "autumn"
        },
        {
         "_deepnote_index_column": 10774,
         "season": "autumn"
        },
        {
         "_deepnote_index_column": 10775,
         "season": "autumn"
        },
        {
         "_deepnote_index_column": 10776,
         "season": "winter"
        },
        {
         "_deepnote_index_column": 10777,
         "season": "summer"
        },
        {
         "_deepnote_index_column": 10778,
         "season": "winter"
        },
        {
         "_deepnote_index_column": 10779,
         "season": "winter"
        },
        {
         "_deepnote_index_column": 10780,
         "season": "winter"
        },
        {
         "_deepnote_index_column": 10781,
         "season": "spring"
        },
        {
         "_deepnote_index_column": 10782,
         "season": "spring"
        },
        {
         "_deepnote_index_column": 10783,
         "season": "summer"
        },
        {
         "_deepnote_index_column": 10784,
         "season": "summer"
        },
        {
         "_deepnote_index_column": 10785,
         "season": "spring"
        },
        {
         "_deepnote_index_column": 10786,
         "season": "autumn"
        },
        {
         "_deepnote_index_column": 10787,
         "season": "spring"
        },
        {
         "_deepnote_index_column": 10788,
         "season": "winter"
        },
        {
         "_deepnote_index_column": 10789,
         "season": "winter"
        },
        {
         "_deepnote_index_column": 10790,
         "season": "spring"
        },
        {
         "_deepnote_index_column": 10791,
         "season": "summer"
        },
        {
         "_deepnote_index_column": 10792,
         "season": "spring"
        },
        {
         "_deepnote_index_column": 10793,
         "season": "summer"
        },
        {
         "_deepnote_index_column": 10794,
         "season": "autumn"
        },
        {
         "_deepnote_index_column": 10795,
         "season": "summer"
        },
        {
         "_deepnote_index_column": 10796,
         "season": "spring"
        },
        {
         "_deepnote_index_column": 10797,
         "season": "winter"
        },
        {
         "_deepnote_index_column": 10798,
         "season": "summer"
        },
        {
         "_deepnote_index_column": 10799,
         "season": "autumn"
        },
        {
         "_deepnote_index_column": 10800,
         "season": "winter"
        },
        {
         "_deepnote_index_column": 10801,
         "season": "autumn"
        },
        {
         "_deepnote_index_column": 10802,
         "season": "winter"
        },
        {
         "_deepnote_index_column": 10803,
         "season": "winter"
        },
        {
         "_deepnote_index_column": 10804,
         "season": "spring"
        },
        {
         "_deepnote_index_column": 10805,
         "season": "winter"
        },
        {
         "_deepnote_index_column": 10806,
         "season": "winter"
        },
        {
         "_deepnote_index_column": 10807,
         "season": "spring"
        },
        {
         "_deepnote_index_column": 10808,
         "season": "spring"
        },
        {
         "_deepnote_index_column": 10809,
         "season": "winter"
        },
        {
         "_deepnote_index_column": 10810,
         "season": "autumn"
        },
        {
         "_deepnote_index_column": 10811,
         "season": "spring"
        },
        {
         "_deepnote_index_column": 10812,
         "season": "winter"
        },
        {
         "_deepnote_index_column": 10813,
         "season": "spring"
        },
        {
         "_deepnote_index_column": 10814,
         "season": "spring"
        },
        {
         "_deepnote_index_column": 10815,
         "season": "spring"
        },
        {
         "_deepnote_index_column": 10816,
         "season": "winter"
        },
        {
         "_deepnote_index_column": 10817,
         "season": "winter"
        },
        {
         "_deepnote_index_column": 10818,
         "season": "spring"
        },
        {
         "_deepnote_index_column": 10819,
         "season": "winter"
        },
        {
         "_deepnote_index_column": 10820,
         "season": "summer"
        },
        {
         "_deepnote_index_column": 10821,
         "season": "winter"
        },
        {
         "_deepnote_index_column": 10822,
         "season": "winter"
        },
        {
         "_deepnote_index_column": 10823,
         "season": "winter"
        },
        {
         "_deepnote_index_column": 10824,
         "season": "winter"
        },
        {
         "_deepnote_index_column": 10825,
         "season": "winter"
        },
        {
         "_deepnote_index_column": 10826,
         "season": "spring"
        },
        {
         "_deepnote_index_column": 10827,
         "season": "spring"
        },
        {
         "_deepnote_index_column": 10828,
         "season": "winter"
        },
        {
         "_deepnote_index_column": 10829,
         "season": "spring"
        },
        {
         "_deepnote_index_column": 10830,
         "season": "spring"
        },
        {
         "_deepnote_index_column": 10831,
         "season": "autumn"
        },
        {
         "_deepnote_index_column": 10832,
         "season": "spring"
        },
        {
         "_deepnote_index_column": 10833,
         "season": "winter"
        },
        {
         "_deepnote_index_column": 10834,
         "season": "winter"
        },
        {
         "_deepnote_index_column": 10835,
         "season": "winter"
        },
        {
         "_deepnote_index_column": 10836,
         "season": "spring"
        },
        {
         "_deepnote_index_column": 10837,
         "season": "spring"
        },
        {
         "_deepnote_index_column": 10838,
         "season": "summer"
        },
        {
         "_deepnote_index_column": 10839,
         "season": "summer"
        },
        {
         "_deepnote_index_column": 10840,
         "season": "winter"
        },
        {
         "_deepnote_index_column": 10841,
         "season": "autumn"
        },
        {
         "_deepnote_index_column": 10842,
         "season": "winter"
        },
        {
         "_deepnote_index_column": 10843,
         "season": "summer"
        },
        {
         "_deepnote_index_column": 10844,
         "season": "summer"
        },
        {
         "_deepnote_index_column": 10845,
         "season": "autumn"
        },
        {
         "_deepnote_index_column": 10846,
         "season": "spring"
        },
        {
         "_deepnote_index_column": 10847,
         "season": "summer"
        },
        {
         "_deepnote_index_column": 10848,
         "season": "summer"
        },
        {
         "_deepnote_index_column": 10849,
         "season": "winter"
        },
        {
         "_deepnote_index_column": 10850,
         "season": "winter"
        },
        {
         "_deepnote_index_column": 10851,
         "season": "autumn"
        },
        {
         "_deepnote_index_column": 10852,
         "season": "spring"
        },
        {
         "_deepnote_index_column": 10853,
         "season": "summer"
        },
        {
         "_deepnote_index_column": 10854,
         "season": "winter"
        },
        {
         "_deepnote_index_column": 10855,
         "season": "summer"
        },
        {
         "_deepnote_index_column": 10856,
         "season": "winter"
        },
        {
         "_deepnote_index_column": 10857,
         "season": "spring"
        },
        {
         "_deepnote_index_column": 10858,
         "season": "spring"
        },
        {
         "_deepnote_index_column": 10859,
         "season": "winter"
        },
        {
         "_deepnote_index_column": 10860,
         "season": "summer"
        },
        {
         "_deepnote_index_column": 10861,
         "season": "winter"
        },
        {
         "_deepnote_index_column": 10862,
         "season": "winter"
        },
        {
         "_deepnote_index_column": 10863,
         "season": "spring"
        },
        {
         "_deepnote_index_column": 10864,
         "season": "winter"
        },
        {
         "_deepnote_index_column": 10865,
         "season": "spring"
        },
        {
         "_deepnote_index_column": 10866,
         "season": "winter"
        },
        {
         "_deepnote_index_column": 10867,
         "season": "spring"
        },
        {
         "_deepnote_index_column": 10868,
         "season": "spring"
        },
        {
         "_deepnote_index_column": 10869,
         "season": "summer"
        },
        {
         "_deepnote_index_column": 10870,
         "season": "winter"
        },
        {
         "_deepnote_index_column": 10871,
         "season": "autumn"
        },
        {
         "_deepnote_index_column": 10872,
         "season": "autumn"
        },
        {
         "_deepnote_index_column": 10873,
         "season": "spring"
        },
        {
         "_deepnote_index_column": 10874,
         "season": "spring"
        },
        {
         "_deepnote_index_column": 10875,
         "season": "spring"
        },
        {
         "_deepnote_index_column": 10876,
         "season": "winter"
        },
        {
         "_deepnote_index_column": 10877,
         "season": "winter"
        },
        {
         "_deepnote_index_column": 10878,
         "season": "winter"
        },
        {
         "_deepnote_index_column": 10879,
         "season": "winter"
        },
        {
         "_deepnote_index_column": 10880,
         "season": "spring"
        },
        {
         "_deepnote_index_column": 10881,
         "season": "summer"
        },
        {
         "_deepnote_index_column": 10882,
         "season": "summer"
        },
        {
         "_deepnote_index_column": 10883,
         "season": "summer"
        },
        {
         "_deepnote_index_column": 10884,
         "season": "winter"
        },
        {
         "_deepnote_index_column": 10885,
         "season": "autumn"
        },
        {
         "_deepnote_index_column": 10886,
         "season": "spring"
        },
        {
         "_deepnote_index_column": 10887,
         "season": "spring"
        },
        {
         "_deepnote_index_column": 10888,
         "season": "spring"
        },
        {
         "_deepnote_index_column": 10889,
         "season": "summer"
        },
        {
         "_deepnote_index_column": 10890,
         "season": "spring"
        },
        {
         "_deepnote_index_column": 10891,
         "season": "winter"
        },
        {
         "_deepnote_index_column": 10892,
         "season": "spring"
        },
        {
         "_deepnote_index_column": 10893,
         "season": "autumn"
        },
        {
         "_deepnote_index_column": 10894,
         "season": "autumn"
        },
        {
         "_deepnote_index_column": 10895,
         "season": "autumn"
        },
        {
         "_deepnote_index_column": 10896,
         "season": "spring"
        },
        {
         "_deepnote_index_column": 10897,
         "season": "spring"
        },
        {
         "_deepnote_index_column": 10898,
         "season": "autumn"
        },
        {
         "_deepnote_index_column": 10899,
         "season": "autumn"
        },
        {
         "_deepnote_index_column": 10900,
         "season": "spring"
        },
        {
         "_deepnote_index_column": 10901,
         "season": "autumn"
        },
        {
         "_deepnote_index_column": 10902,
         "season": "winter"
        },
        {
         "_deepnote_index_column": 10903,
         "season": "winter"
        },
        {
         "_deepnote_index_column": 10904,
         "season": "summer"
        },
        {
         "_deepnote_index_column": 10905,
         "season": "summer"
        },
        {
         "_deepnote_index_column": 10906,
         "season": "spring"
        },
        {
         "_deepnote_index_column": 10907,
         "season": "spring"
        },
        {
         "_deepnote_index_column": 10908,
         "season": "winter"
        },
        {
         "_deepnote_index_column": 10909,
         "season": "winter"
        },
        {
         "_deepnote_index_column": 10910,
         "season": "winter"
        },
        {
         "_deepnote_index_column": 10911,
         "season": "winter"
        },
        {
         "_deepnote_index_column": 10912,
         "season": "winter"
        },
        {
         "_deepnote_index_column": 10913,
         "season": "autumn"
        },
        {
         "_deepnote_index_column": 10914,
         "season": "autumn"
        },
        {
         "_deepnote_index_column": 10915,
         "season": "autumn"
        },
        {
         "_deepnote_index_column": 10916,
         "season": "winter"
        },
        {
         "_deepnote_index_column": 10917,
         "season": "summer"
        },
        {
         "_deepnote_index_column": 10918,
         "season": "spring"
        },
        {
         "_deepnote_index_column": 10919,
         "season": "winter"
        },
        {
         "_deepnote_index_column": 10920,
         "season": "spring"
        },
        {
         "_deepnote_index_column": 10921,
         "season": "spring"
        },
        {
         "_deepnote_index_column": 10922,
         "season": "spring"
        },
        {
         "_deepnote_index_column": 10923,
         "season": "winter"
        },
        {
         "_deepnote_index_column": 10924,
         "season": "spring"
        },
        {
         "_deepnote_index_column": 10925,
         "season": "winter"
        },
        {
         "_deepnote_index_column": 10926,
         "season": "winter"
        },
        {
         "_deepnote_index_column": 10927,
         "season": "spring"
        },
        {
         "_deepnote_index_column": 10928,
         "season": "winter"
        },
        {
         "_deepnote_index_column": 10929,
         "season": "winter"
        },
        {
         "_deepnote_index_column": 10930,
         "season": "spring"
        },
        {
         "_deepnote_index_column": 10931,
         "season": "winter"
        },
        {
         "_deepnote_index_column": 10932,
         "season": "spring"
        },
        {
         "_deepnote_index_column": 10933,
         "season": "winter"
        },
        {
         "_deepnote_index_column": 10934,
         "season": "autumn"
        },
        {
         "_deepnote_index_column": 10935,
         "season": "winter"
        },
        {
         "_deepnote_index_column": 10936,
         "season": "summer"
        },
        {
         "_deepnote_index_column": 10937,
         "season": "spring"
        },
        {
         "_deepnote_index_column": 10938,
         "season": "summer"
        },
        {
         "_deepnote_index_column": 10939,
         "season": "autumn"
        },
        {
         "_deepnote_index_column": 10940,
         "season": "winter"
        },
        {
         "_deepnote_index_column": 10941,
         "season": "autumn"
        },
        {
         "_deepnote_index_column": 10942,
         "season": "spring"
        },
        {
         "_deepnote_index_column": 10943,
         "season": "summer"
        },
        {
         "_deepnote_index_column": 10944,
         "season": "winter"
        },
        {
         "_deepnote_index_column": 10945,
         "season": "winter"
        },
        {
         "_deepnote_index_column": 10946,
         "season": "winter"
        },
        {
         "_deepnote_index_column": 10947,
         "season": "autumn"
        },
        {
         "_deepnote_index_column": 10948,
         "season": "winter"
        },
        {
         "_deepnote_index_column": 10949,
         "season": "spring"
        },
        {
         "_deepnote_index_column": 10950,
         "season": "spring"
        },
        {
         "_deepnote_index_column": 10951,
         "season": "autumn"
        },
        {
         "_deepnote_index_column": 10952,
         "season": "spring"
        },
        {
         "_deepnote_index_column": 10953,
         "season": "winter"
        },
        {
         "_deepnote_index_column": 10954,
         "season": "winter"
        },
        {
         "_deepnote_index_column": 10955,
         "season": "winter"
        },
        {
         "_deepnote_index_column": 10956,
         "season": "summer"
        },
        {
         "_deepnote_index_column": 10957,
         "season": "autumn"
        },
        {
         "_deepnote_index_column": 10958,
         "season": "autumn"
        },
        {
         "_deepnote_index_column": 10959,
         "season": "spring"
        },
        {
         "_deepnote_index_column": 10960,
         "season": "autumn"
        },
        {
         "_deepnote_index_column": 10961,
         "season": "summer"
        },
        {
         "_deepnote_index_column": 10962,
         "season": "summer"
        },
        {
         "_deepnote_index_column": 10963,
         "season": "spring"
        },
        {
         "_deepnote_index_column": 10964,
         "season": "spring"
        },
        {
         "_deepnote_index_column": 10965,
         "season": "winter"
        },
        {
         "_deepnote_index_column": 10966,
         "season": "winter"
        },
        {
         "_deepnote_index_column": 10967,
         "season": "summer"
        },
        {
         "_deepnote_index_column": 10968,
         "season": "winter"
        },
        {
         "_deepnote_index_column": 10969,
         "season": "summer"
        },
        {
         "_deepnote_index_column": 10970,
         "season": "summer"
        },
        {
         "_deepnote_index_column": 10971,
         "season": "spring"
        },
        {
         "_deepnote_index_column": 10972,
         "season": "winter"
        },
        {
         "_deepnote_index_column": 10973,
         "season": "winter"
        },
        {
         "_deepnote_index_column": 10974,
         "season": "winter"
        },
        {
         "_deepnote_index_column": 10975,
         "season": "spring"
        },
        {
         "_deepnote_index_column": 10976,
         "season": "summer"
        },
        {
         "_deepnote_index_column": 10977,
         "season": "spring"
        },
        {
         "_deepnote_index_column": 10978,
         "season": "spring"
        },
        {
         "_deepnote_index_column": 10979,
         "season": "summer"
        },
        {
         "_deepnote_index_column": 10980,
         "season": "summer"
        },
        {
         "_deepnote_index_column": 10981,
         "season": "spring"
        },
        {
         "_deepnote_index_column": 10982,
         "season": "spring"
        },
        {
         "_deepnote_index_column": 10983,
         "season": "spring"
        },
        {
         "_deepnote_index_column": 10984,
         "season": "summer"
        },
        {
         "_deepnote_index_column": 10985,
         "season": "winter"
        },
        {
         "_deepnote_index_column": 10986,
         "season": "spring"
        },
        {
         "_deepnote_index_column": 10987,
         "season": "winter"
        },
        {
         "_deepnote_index_column": 10988,
         "season": "spring"
        },
        {
         "_deepnote_index_column": 10989,
         "season": "spring"
        },
        {
         "_deepnote_index_column": 10990,
         "season": "winter"
        },
        {
         "_deepnote_index_column": 10991,
         "season": "spring"
        },
        {
         "_deepnote_index_column": 10992,
         "season": "summer"
        },
        {
         "_deepnote_index_column": 10993,
         "season": "winter"
        },
        {
         "_deepnote_index_column": 10994,
         "season": "spring"
        },
        {
         "_deepnote_index_column": 10995,
         "season": "autumn"
        },
        {
         "_deepnote_index_column": 10996,
         "season": "winter"
        },
        {
         "_deepnote_index_column": 10997,
         "season": "winter"
        },
        {
         "_deepnote_index_column": 10998,
         "season": "winter"
        },
        {
         "_deepnote_index_column": 10999,
         "season": "autumn"
        },
        {
         "_deepnote_index_column": 11000,
         "season": "winter"
        },
        {
         "_deepnote_index_column": 11001,
         "season": "spring"
        },
        {
         "_deepnote_index_column": 11002,
         "season": "winter"
        },
        {
         "_deepnote_index_column": 11003,
         "season": "autumn"
        },
        {
         "_deepnote_index_column": 11004,
         "season": "spring"
        },
        {
         "_deepnote_index_column": 11005,
         "season": "winter"
        },
        {
         "_deepnote_index_column": 11006,
         "season": "autumn"
        },
        {
         "_deepnote_index_column": 11007,
         "season": "spring"
        },
        {
         "_deepnote_index_column": 11008,
         "season": "summer"
        },
        {
         "_deepnote_index_column": 11009,
         "season": "summer"
        },
        {
         "_deepnote_index_column": 11010,
         "season": "autumn"
        },
        {
         "_deepnote_index_column": 11011,
         "season": "winter"
        },
        {
         "_deepnote_index_column": 11012,
         "season": "winter"
        },
        {
         "_deepnote_index_column": 11013,
         "season": "spring"
        },
        {
         "_deepnote_index_column": 11014,
         "season": "spring"
        },
        {
         "_deepnote_index_column": 11015,
         "season": "summer"
        },
        {
         "_deepnote_index_column": 11016,
         "season": "summer"
        },
        {
         "_deepnote_index_column": 11017,
         "season": "summer"
        },
        {
         "_deepnote_index_column": 11018,
         "season": "spring"
        },
        {
         "_deepnote_index_column": 11019,
         "season": "spring"
        },
        {
         "_deepnote_index_column": 11020,
         "season": "winter"
        },
        {
         "_deepnote_index_column": 11021,
         "season": "spring"
        },
        {
         "_deepnote_index_column": 11022,
         "season": "summer"
        },
        {
         "_deepnote_index_column": 11023,
         "season": "winter"
        },
        {
         "_deepnote_index_column": 11024,
         "season": "winter"
        },
        {
         "_deepnote_index_column": 11025,
         "season": "autumn"
        },
        {
         "_deepnote_index_column": 11026,
         "season": "summer"
        },
        {
         "_deepnote_index_column": 11027,
         "season": "spring"
        },
        {
         "_deepnote_index_column": 11028,
         "season": "autumn"
        },
        {
         "_deepnote_index_column": 11029,
         "season": "spring"
        },
        {
         "_deepnote_index_column": 11030,
         "season": "autumn"
        },
        {
         "_deepnote_index_column": 11031,
         "season": "spring"
        },
        {
         "_deepnote_index_column": 11032,
         "season": "winter"
        }
       ],
       "rows_top": [
        {
         "_deepnote_index_column": 0,
         "season": "summer"
        },
        {
         "_deepnote_index_column": 1,
         "season": "winter"
        },
        {
         "_deepnote_index_column": 2,
         "season": "summer"
        },
        {
         "_deepnote_index_column": 3,
         "season": "summer"
        },
        {
         "_deepnote_index_column": 4,
         "season": "autumn"
        },
        {
         "_deepnote_index_column": 5,
         "season": "winter"
        },
        {
         "_deepnote_index_column": 6,
         "season": "spring"
        },
        {
         "_deepnote_index_column": 7,
         "season": "summer"
        },
        {
         "_deepnote_index_column": 8,
         "season": "summer"
        },
        {
         "_deepnote_index_column": 9,
         "season": "autumn"
        },
        {
         "_deepnote_index_column": 10,
         "season": "autumn"
        },
        {
         "_deepnote_index_column": 11,
         "season": "winter"
        },
        {
         "_deepnote_index_column": 12,
         "season": "winter"
        },
        {
         "_deepnote_index_column": 13,
         "season": "summer"
        },
        {
         "_deepnote_index_column": 14,
         "season": "winter"
        },
        {
         "_deepnote_index_column": 15,
         "season": "winter"
        },
        {
         "_deepnote_index_column": 16,
         "season": "winter"
        },
        {
         "_deepnote_index_column": 17,
         "season": "winter"
        },
        {
         "_deepnote_index_column": 18,
         "season": "winter"
        },
        {
         "_deepnote_index_column": 19,
         "season": "winter"
        },
        {
         "_deepnote_index_column": 20,
         "season": "winter"
        },
        {
         "_deepnote_index_column": 21,
         "season": "winter"
        },
        {
         "_deepnote_index_column": 22,
         "season": "winter"
        },
        {
         "_deepnote_index_column": 23,
         "season": "winter"
        },
        {
         "_deepnote_index_column": 24,
         "season": "winter"
        },
        {
         "_deepnote_index_column": 25,
         "season": "winter"
        },
        {
         "_deepnote_index_column": 26,
         "season": "winter"
        },
        {
         "_deepnote_index_column": 27,
         "season": "summer"
        },
        {
         "_deepnote_index_column": 28,
         "season": "summer"
        },
        {
         "_deepnote_index_column": 29,
         "season": "winter"
        },
        {
         "_deepnote_index_column": 30,
         "season": "winter"
        },
        {
         "_deepnote_index_column": 31,
         "season": "winter"
        },
        {
         "_deepnote_index_column": 32,
         "season": "summer"
        },
        {
         "_deepnote_index_column": 33,
         "season": "winter"
        },
        {
         "_deepnote_index_column": 34,
         "season": "summer"
        },
        {
         "_deepnote_index_column": 35,
         "season": "winter"
        },
        {
         "_deepnote_index_column": 36,
         "season": "summer"
        },
        {
         "_deepnote_index_column": 37,
         "season": "spring"
        },
        {
         "_deepnote_index_column": 38,
         "season": "winter"
        },
        {
         "_deepnote_index_column": 39,
         "season": "summer"
        },
        {
         "_deepnote_index_column": 40,
         "season": "summer"
        },
        {
         "_deepnote_index_column": 41,
         "season": "summer"
        },
        {
         "_deepnote_index_column": 42,
         "season": "spring"
        },
        {
         "_deepnote_index_column": 43,
         "season": "summer"
        },
        {
         "_deepnote_index_column": 44,
         "season": "summer"
        },
        {
         "_deepnote_index_column": 45,
         "season": "summer"
        },
        {
         "_deepnote_index_column": 46,
         "season": "summer"
        },
        {
         "_deepnote_index_column": 47,
         "season": "summer"
        },
        {
         "_deepnote_index_column": 48,
         "season": "summer"
        },
        {
         "_deepnote_index_column": 49,
         "season": "summer"
        },
        {
         "_deepnote_index_column": 50,
         "season": "summer"
        },
        {
         "_deepnote_index_column": 51,
         "season": "autumn"
        },
        {
         "_deepnote_index_column": 52,
         "season": "spring"
        },
        {
         "_deepnote_index_column": 53,
         "season": "summer"
        },
        {
         "_deepnote_index_column": 54,
         "season": "autumn"
        },
        {
         "_deepnote_index_column": 55,
         "season": "autumn"
        },
        {
         "_deepnote_index_column": 56,
         "season": "summer"
        },
        {
         "_deepnote_index_column": 57,
         "season": "winter"
        },
        {
         "_deepnote_index_column": 58,
         "season": "autumn"
        },
        {
         "_deepnote_index_column": 59,
         "season": "summer"
        },
        {
         "_deepnote_index_column": 60,
         "season": "summer"
        },
        {
         "_deepnote_index_column": 61,
         "season": "autumn"
        },
        {
         "_deepnote_index_column": 62,
         "season": "summer"
        },
        {
         "_deepnote_index_column": 63,
         "season": "autumn"
        },
        {
         "_deepnote_index_column": 64,
         "season": "autumn"
        },
        {
         "_deepnote_index_column": 65,
         "season": "summer"
        },
        {
         "_deepnote_index_column": 66,
         "season": "winter"
        },
        {
         "_deepnote_index_column": 67,
         "season": "spring"
        },
        {
         "_deepnote_index_column": 68,
         "season": "summer"
        },
        {
         "_deepnote_index_column": 69,
         "season": "summer"
        },
        {
         "_deepnote_index_column": 70,
         "season": "summer"
        },
        {
         "_deepnote_index_column": 71,
         "season": "summer"
        },
        {
         "_deepnote_index_column": 72,
         "season": "summer"
        },
        {
         "_deepnote_index_column": 73,
         "season": "spring"
        },
        {
         "_deepnote_index_column": 74,
         "season": "summer"
        },
        {
         "_deepnote_index_column": 75,
         "season": "summer"
        },
        {
         "_deepnote_index_column": 76,
         "season": "summer"
        },
        {
         "_deepnote_index_column": 77,
         "season": "winter"
        },
        {
         "_deepnote_index_column": 78,
         "season": "spring"
        },
        {
         "_deepnote_index_column": 79,
         "season": "winter"
        },
        {
         "_deepnote_index_column": 80,
         "season": "winter"
        },
        {
         "_deepnote_index_column": 81,
         "season": "winter"
        },
        {
         "_deepnote_index_column": 82,
         "season": "summer"
        },
        {
         "_deepnote_index_column": 83,
         "season": "summer"
        },
        {
         "_deepnote_index_column": 84,
         "season": "summer"
        },
        {
         "_deepnote_index_column": 85,
         "season": "summer"
        },
        {
         "_deepnote_index_column": 86,
         "season": "summer"
        },
        {
         "_deepnote_index_column": 87,
         "season": "winter"
        },
        {
         "_deepnote_index_column": 88,
         "season": "autumn"
        },
        {
         "_deepnote_index_column": 89,
         "season": "summer"
        },
        {
         "_deepnote_index_column": 90,
         "season": "summer"
        },
        {
         "_deepnote_index_column": 91,
         "season": "summer"
        },
        {
         "_deepnote_index_column": 92,
         "season": "summer"
        },
        {
         "_deepnote_index_column": 93,
         "season": "summer"
        },
        {
         "_deepnote_index_column": 94,
         "season": "winter"
        },
        {
         "_deepnote_index_column": 95,
         "season": "winter"
        },
        {
         "_deepnote_index_column": 96,
         "season": "summer"
        },
        {
         "_deepnote_index_column": 97,
         "season": "spring"
        },
        {
         "_deepnote_index_column": 98,
         "season": "summer"
        },
        {
         "_deepnote_index_column": 99,
         "season": "summer"
        },
        {
         "_deepnote_index_column": 100,
         "season": "summer"
        },
        {
         "_deepnote_index_column": 101,
         "season": "autumn"
        },
        {
         "_deepnote_index_column": 102,
         "season": "summer"
        },
        {
         "_deepnote_index_column": 103,
         "season": "winter"
        },
        {
         "_deepnote_index_column": 104,
         "season": "summer"
        },
        {
         "_deepnote_index_column": 105,
         "season": "spring"
        },
        {
         "_deepnote_index_column": 106,
         "season": "spring"
        },
        {
         "_deepnote_index_column": 107,
         "season": "spring"
        },
        {
         "_deepnote_index_column": 108,
         "season": "spring"
        },
        {
         "_deepnote_index_column": 109,
         "season": "spring"
        },
        {
         "_deepnote_index_column": 110,
         "season": "spring"
        },
        {
         "_deepnote_index_column": 111,
         "season": "spring"
        },
        {
         "_deepnote_index_column": 112,
         "season": "summer"
        },
        {
         "_deepnote_index_column": 113,
         "season": "summer"
        },
        {
         "_deepnote_index_column": 114,
         "season": "summer"
        },
        {
         "_deepnote_index_column": 115,
         "season": "summer"
        },
        {
         "_deepnote_index_column": 116,
         "season": "summer"
        },
        {
         "_deepnote_index_column": 117,
         "season": "summer"
        },
        {
         "_deepnote_index_column": 118,
         "season": "summer"
        },
        {
         "_deepnote_index_column": 119,
         "season": "summer"
        },
        {
         "_deepnote_index_column": 120,
         "season": "spring"
        },
        {
         "_deepnote_index_column": 121,
         "season": "autumn"
        },
        {
         "_deepnote_index_column": 122,
         "season": "spring"
        },
        {
         "_deepnote_index_column": 123,
         "season": "winter"
        },
        {
         "_deepnote_index_column": 124,
         "season": "summer"
        },
        {
         "_deepnote_index_column": 125,
         "season": "winter"
        },
        {
         "_deepnote_index_column": 126,
         "season": "summer"
        },
        {
         "_deepnote_index_column": 127,
         "season": "summer"
        },
        {
         "_deepnote_index_column": 128,
         "season": "summer"
        },
        {
         "_deepnote_index_column": 129,
         "season": "summer"
        },
        {
         "_deepnote_index_column": 130,
         "season": "summer"
        },
        {
         "_deepnote_index_column": 131,
         "season": "summer"
        },
        {
         "_deepnote_index_column": 132,
         "season": "summer"
        },
        {
         "_deepnote_index_column": 133,
         "season": "summer"
        },
        {
         "_deepnote_index_column": 134,
         "season": "summer"
        },
        {
         "_deepnote_index_column": 135,
         "season": "spring"
        },
        {
         "_deepnote_index_column": 136,
         "season": "summer"
        },
        {
         "_deepnote_index_column": 137,
         "season": "summer"
        },
        {
         "_deepnote_index_column": 138,
         "season": "summer"
        },
        {
         "_deepnote_index_column": 139,
         "season": "summer"
        },
        {
         "_deepnote_index_column": 140,
         "season": "summer"
        },
        {
         "_deepnote_index_column": 141,
         "season": "summer"
        },
        {
         "_deepnote_index_column": 142,
         "season": "summer"
        },
        {
         "_deepnote_index_column": 143,
         "season": "spring"
        },
        {
         "_deepnote_index_column": 144,
         "season": "summer"
        },
        {
         "_deepnote_index_column": 145,
         "season": "summer"
        },
        {
         "_deepnote_index_column": 146,
         "season": "summer"
        },
        {
         "_deepnote_index_column": 147,
         "season": "spring"
        },
        {
         "_deepnote_index_column": 148,
         "season": "summer"
        },
        {
         "_deepnote_index_column": 149,
         "season": "summer"
        },
        {
         "_deepnote_index_column": 150,
         "season": "summer"
        },
        {
         "_deepnote_index_column": 151,
         "season": "summer"
        },
        {
         "_deepnote_index_column": 152,
         "season": "summer"
        },
        {
         "_deepnote_index_column": 153,
         "season": "summer"
        },
        {
         "_deepnote_index_column": 154,
         "season": "spring"
        },
        {
         "_deepnote_index_column": 155,
         "season": "winter"
        },
        {
         "_deepnote_index_column": 156,
         "season": "summer"
        },
        {
         "_deepnote_index_column": 157,
         "season": "summer"
        },
        {
         "_deepnote_index_column": 158,
         "season": "summer"
        },
        {
         "_deepnote_index_column": 159,
         "season": "spring"
        },
        {
         "_deepnote_index_column": 160,
         "season": "summer"
        },
        {
         "_deepnote_index_column": 161,
         "season": "summer"
        },
        {
         "_deepnote_index_column": 162,
         "season": "summer"
        },
        {
         "_deepnote_index_column": 163,
         "season": "summer"
        },
        {
         "_deepnote_index_column": 164,
         "season": "winter"
        },
        {
         "_deepnote_index_column": 165,
         "season": "summer"
        },
        {
         "_deepnote_index_column": 166,
         "season": "winter"
        },
        {
         "_deepnote_index_column": 167,
         "season": "summer"
        },
        {
         "_deepnote_index_column": 168,
         "season": "summer"
        },
        {
         "_deepnote_index_column": 169,
         "season": "summer"
        },
        {
         "_deepnote_index_column": 170,
         "season": "summer"
        },
        {
         "_deepnote_index_column": 171,
         "season": "summer"
        },
        {
         "_deepnote_index_column": 172,
         "season": "spring"
        },
        {
         "_deepnote_index_column": 173,
         "season": "summer"
        },
        {
         "_deepnote_index_column": 174,
         "season": "spring"
        },
        {
         "_deepnote_index_column": 175,
         "season": "spring"
        },
        {
         "_deepnote_index_column": 176,
         "season": "spring"
        },
        {
         "_deepnote_index_column": 177,
         "season": "spring"
        },
        {
         "_deepnote_index_column": 178,
         "season": "autumn"
        },
        {
         "_deepnote_index_column": 179,
         "season": "spring"
        },
        {
         "_deepnote_index_column": 180,
         "season": "spring"
        },
        {
         "_deepnote_index_column": 181,
         "season": "spring"
        },
        {
         "_deepnote_index_column": 182,
         "season": "spring"
        },
        {
         "_deepnote_index_column": 183,
         "season": "spring"
        },
        {
         "_deepnote_index_column": 184,
         "season": "spring"
        },
        {
         "_deepnote_index_column": 185,
         "season": "spring"
        },
        {
         "_deepnote_index_column": 186,
         "season": "summer"
        },
        {
         "_deepnote_index_column": 187,
         "season": "spring"
        },
        {
         "_deepnote_index_column": 188,
         "season": "spring"
        },
        {
         "_deepnote_index_column": 189,
         "season": "spring"
        },
        {
         "_deepnote_index_column": 190,
         "season": "spring"
        },
        {
         "_deepnote_index_column": 191,
         "season": "summer"
        },
        {
         "_deepnote_index_column": 192,
         "season": "spring"
        },
        {
         "_deepnote_index_column": 193,
         "season": "spring"
        },
        {
         "_deepnote_index_column": 194,
         "season": "summer"
        },
        {
         "_deepnote_index_column": 195,
         "season": "spring"
        },
        {
         "_deepnote_index_column": 196,
         "season": "summer"
        },
        {
         "_deepnote_index_column": 197,
         "season": "summer"
        },
        {
         "_deepnote_index_column": 198,
         "season": "winter"
        },
        {
         "_deepnote_index_column": 199,
         "season": "summer"
        },
        {
         "_deepnote_index_column": 200,
         "season": "spring"
        },
        {
         "_deepnote_index_column": 201,
         "season": "summer"
        },
        {
         "_deepnote_index_column": 202,
         "season": "spring"
        },
        {
         "_deepnote_index_column": 203,
         "season": "spring"
        },
        {
         "_deepnote_index_column": 204,
         "season": "spring"
        },
        {
         "_deepnote_index_column": 205,
         "season": "spring"
        },
        {
         "_deepnote_index_column": 206,
         "season": "spring"
        },
        {
         "_deepnote_index_column": 207,
         "season": "spring"
        },
        {
         "_deepnote_index_column": 208,
         "season": "summer"
        },
        {
         "_deepnote_index_column": 209,
         "season": "summer"
        },
        {
         "_deepnote_index_column": 210,
         "season": "spring"
        },
        {
         "_deepnote_index_column": 211,
         "season": "spring"
        },
        {
         "_deepnote_index_column": 212,
         "season": "spring"
        },
        {
         "_deepnote_index_column": 213,
         "season": "summer"
        },
        {
         "_deepnote_index_column": 214,
         "season": "summer"
        },
        {
         "_deepnote_index_column": 215,
         "season": "spring"
        },
        {
         "_deepnote_index_column": 216,
         "season": "summer"
        },
        {
         "_deepnote_index_column": 217,
         "season": "summer"
        },
        {
         "_deepnote_index_column": 218,
         "season": "spring"
        },
        {
         "_deepnote_index_column": 219,
         "season": "spring"
        },
        {
         "_deepnote_index_column": 220,
         "season": "summer"
        },
        {
         "_deepnote_index_column": 221,
         "season": "spring"
        },
        {
         "_deepnote_index_column": 222,
         "season": "autumn"
        },
        {
         "_deepnote_index_column": 223,
         "season": "spring"
        },
        {
         "_deepnote_index_column": 224,
         "season": "spring"
        },
        {
         "_deepnote_index_column": 225,
         "season": "summer"
        },
        {
         "_deepnote_index_column": 226,
         "season": "summer"
        },
        {
         "_deepnote_index_column": 227,
         "season": "spring"
        },
        {
         "_deepnote_index_column": 228,
         "season": "spring"
        },
        {
         "_deepnote_index_column": 229,
         "season": "spring"
        },
        {
         "_deepnote_index_column": 230,
         "season": "spring"
        },
        {
         "_deepnote_index_column": 231,
         "season": "spring"
        },
        {
         "_deepnote_index_column": 232,
         "season": "spring"
        },
        {
         "_deepnote_index_column": 233,
         "season": "spring"
        },
        {
         "_deepnote_index_column": 234,
         "season": "spring"
        },
        {
         "_deepnote_index_column": 235,
         "season": "spring"
        },
        {
         "_deepnote_index_column": 236,
         "season": "spring"
        },
        {
         "_deepnote_index_column": 237,
         "season": "spring"
        },
        {
         "_deepnote_index_column": 238,
         "season": "summer"
        },
        {
         "_deepnote_index_column": 239,
         "season": "spring"
        },
        {
         "_deepnote_index_column": 240,
         "season": "summer"
        },
        {
         "_deepnote_index_column": 241,
         "season": "summer"
        },
        {
         "_deepnote_index_column": 242,
         "season": "spring"
        },
        {
         "_deepnote_index_column": 243,
         "season": "spring"
        },
        {
         "_deepnote_index_column": 244,
         "season": "spring"
        },
        {
         "_deepnote_index_column": 245,
         "season": "summer"
        },
        {
         "_deepnote_index_column": 246,
         "season": "spring"
        },
        {
         "_deepnote_index_column": 247,
         "season": "summer"
        },
        {
         "_deepnote_index_column": 248,
         "season": "spring"
        },
        {
         "_deepnote_index_column": 249,
         "season": "spring"
        },
        {
         "_deepnote_index_column": 250,
         "season": "spring"
        },
        {
         "_deepnote_index_column": 251,
         "season": "summer"
        },
        {
         "_deepnote_index_column": 252,
         "season": "spring"
        },
        {
         "_deepnote_index_column": 253,
         "season": "winter"
        },
        {
         "_deepnote_index_column": 254,
         "season": "spring"
        },
        {
         "_deepnote_index_column": 255,
         "season": "summer"
        },
        {
         "_deepnote_index_column": 256,
         "season": "summer"
        },
        {
         "_deepnote_index_column": 257,
         "season": "spring"
        },
        {
         "_deepnote_index_column": 258,
         "season": "summer"
        },
        {
         "_deepnote_index_column": 259,
         "season": "winter"
        },
        {
         "_deepnote_index_column": 260,
         "season": "spring"
        },
        {
         "_deepnote_index_column": 261,
         "season": "summer"
        },
        {
         "_deepnote_index_column": 262,
         "season": "summer"
        },
        {
         "_deepnote_index_column": 263,
         "season": "summer"
        },
        {
         "_deepnote_index_column": 264,
         "season": "spring"
        },
        {
         "_deepnote_index_column": 265,
         "season": "summer"
        },
        {
         "_deepnote_index_column": 266,
         "season": "summer"
        },
        {
         "_deepnote_index_column": 267,
         "season": "spring"
        },
        {
         "_deepnote_index_column": 268,
         "season": "spring"
        },
        {
         "_deepnote_index_column": 269,
         "season": "spring"
        },
        {
         "_deepnote_index_column": 270,
         "season": "autumn"
        },
        {
         "_deepnote_index_column": 271,
         "season": "spring"
        },
        {
         "_deepnote_index_column": 272,
         "season": "winter"
        },
        {
         "_deepnote_index_column": 273,
         "season": "spring"
        },
        {
         "_deepnote_index_column": 274,
         "season": "spring"
        },
        {
         "_deepnote_index_column": 275,
         "season": "spring"
        },
        {
         "_deepnote_index_column": 276,
         "season": "spring"
        },
        {
         "_deepnote_index_column": 277,
         "season": "summer"
        },
        {
         "_deepnote_index_column": 278,
         "season": "spring"
        },
        {
         "_deepnote_index_column": 279,
         "season": "spring"
        },
        {
         "_deepnote_index_column": 280,
         "season": "spring"
        },
        {
         "_deepnote_index_column": 281,
         "season": "summer"
        },
        {
         "_deepnote_index_column": 282,
         "season": "spring"
        },
        {
         "_deepnote_index_column": 283,
         "season": "spring"
        },
        {
         "_deepnote_index_column": 284,
         "season": "summer"
        },
        {
         "_deepnote_index_column": 285,
         "season": "spring"
        },
        {
         "_deepnote_index_column": 286,
         "season": "autumn"
        },
        {
         "_deepnote_index_column": 287,
         "season": "summer"
        },
        {
         "_deepnote_index_column": 288,
         "season": "spring"
        },
        {
         "_deepnote_index_column": 289,
         "season": "spring"
        },
        {
         "_deepnote_index_column": 290,
         "season": "spring"
        },
        {
         "_deepnote_index_column": 291,
         "season": "spring"
        },
        {
         "_deepnote_index_column": 292,
         "season": "autumn"
        },
        {
         "_deepnote_index_column": 293,
         "season": "spring"
        },
        {
         "_deepnote_index_column": 294,
         "season": "summer"
        },
        {
         "_deepnote_index_column": 295,
         "season": "spring"
        },
        {
         "_deepnote_index_column": 296,
         "season": "spring"
        },
        {
         "_deepnote_index_column": 297,
         "season": "spring"
        },
        {
         "_deepnote_index_column": 298,
         "season": "summer"
        },
        {
         "_deepnote_index_column": 299,
         "season": "spring"
        },
        {
         "_deepnote_index_column": 300,
         "season": "summer"
        },
        {
         "_deepnote_index_column": 301,
         "season": "spring"
        },
        {
         "_deepnote_index_column": 302,
         "season": "spring"
        },
        {
         "_deepnote_index_column": 303,
         "season": "spring"
        },
        {
         "_deepnote_index_column": 304,
         "season": "spring"
        },
        {
         "_deepnote_index_column": 305,
         "season": "spring"
        },
        {
         "_deepnote_index_column": 306,
         "season": "spring"
        },
        {
         "_deepnote_index_column": 307,
         "season": "summer"
        },
        {
         "_deepnote_index_column": 308,
         "season": "spring"
        },
        {
         "_deepnote_index_column": 309,
         "season": "spring"
        },
        {
         "_deepnote_index_column": 310,
         "season": "spring"
        },
        {
         "_deepnote_index_column": 311,
         "season": "summer"
        },
        {
         "_deepnote_index_column": 312,
         "season": "spring"
        },
        {
         "_deepnote_index_column": 313,
         "season": "spring"
        },
        {
         "_deepnote_index_column": 314,
         "season": "spring"
        },
        {
         "_deepnote_index_column": 315,
         "season": "spring"
        },
        {
         "_deepnote_index_column": 316,
         "season": "spring"
        },
        {
         "_deepnote_index_column": 317,
         "season": "spring"
        },
        {
         "_deepnote_index_column": 318,
         "season": "summer"
        },
        {
         "_deepnote_index_column": 319,
         "season": "spring"
        },
        {
         "_deepnote_index_column": 320,
         "season": "spring"
        },
        {
         "_deepnote_index_column": 321,
         "season": "summer"
        },
        {
         "_deepnote_index_column": 322,
         "season": "winter"
        },
        {
         "_deepnote_index_column": 323,
         "season": "spring"
        },
        {
         "_deepnote_index_column": 324,
         "season": "spring"
        },
        {
         "_deepnote_index_column": 325,
         "season": "spring"
        },
        {
         "_deepnote_index_column": 326,
         "season": "summer"
        },
        {
         "_deepnote_index_column": 327,
         "season": "spring"
        },
        {
         "_deepnote_index_column": 328,
         "season": "summer"
        },
        {
         "_deepnote_index_column": 329,
         "season": "spring"
        },
        {
         "_deepnote_index_column": 330,
         "season": "spring"
        },
        {
         "_deepnote_index_column": 331,
         "season": "summer"
        },
        {
         "_deepnote_index_column": 332,
         "season": "spring"
        },
        {
         "_deepnote_index_column": 333,
         "season": "summer"
        },
        {
         "_deepnote_index_column": 334,
         "season": "summer"
        },
        {
         "_deepnote_index_column": 335,
         "season": "summer"
        },
        {
         "_deepnote_index_column": 336,
         "season": "autumn"
        },
        {
         "_deepnote_index_column": 337,
         "season": "spring"
        },
        {
         "_deepnote_index_column": 338,
         "season": "summer"
        },
        {
         "_deepnote_index_column": 339,
         "season": "spring"
        },
        {
         "_deepnote_index_column": 340,
         "season": "spring"
        },
        {
         "_deepnote_index_column": 341,
         "season": "summer"
        },
        {
         "_deepnote_index_column": 342,
         "season": "summer"
        },
        {
         "_deepnote_index_column": 343,
         "season": "autumn"
        },
        {
         "_deepnote_index_column": 344,
         "season": "spring"
        },
        {
         "_deepnote_index_column": 345,
         "season": "spring"
        },
        {
         "_deepnote_index_column": 346,
         "season": "spring"
        },
        {
         "_deepnote_index_column": 347,
         "season": "summer"
        },
        {
         "_deepnote_index_column": 348,
         "season": "spring"
        },
        {
         "_deepnote_index_column": 349,
         "season": "spring"
        },
        {
         "_deepnote_index_column": 350,
         "season": "spring"
        },
        {
         "_deepnote_index_column": 351,
         "season": "spring"
        },
        {
         "_deepnote_index_column": 352,
         "season": "spring"
        },
        {
         "_deepnote_index_column": 353,
         "season": "summer"
        },
        {
         "_deepnote_index_column": 354,
         "season": "summer"
        },
        {
         "_deepnote_index_column": 355,
         "season": "summer"
        },
        {
         "_deepnote_index_column": 356,
         "season": "summer"
        },
        {
         "_deepnote_index_column": 357,
         "season": "summer"
        },
        {
         "_deepnote_index_column": 358,
         "season": "summer"
        },
        {
         "_deepnote_index_column": 359,
         "season": "summer"
        },
        {
         "_deepnote_index_column": 360,
         "season": "summer"
        },
        {
         "_deepnote_index_column": 361,
         "season": "summer"
        },
        {
         "_deepnote_index_column": 362,
         "season": "summer"
        },
        {
         "_deepnote_index_column": 363,
         "season": "summer"
        },
        {
         "_deepnote_index_column": 364,
         "season": "summer"
        },
        {
         "_deepnote_index_column": 365,
         "season": "summer"
        },
        {
         "_deepnote_index_column": 366,
         "season": "summer"
        },
        {
         "_deepnote_index_column": 367,
         "season": "summer"
        },
        {
         "_deepnote_index_column": 368,
         "season": "summer"
        },
        {
         "_deepnote_index_column": 369,
         "season": "summer"
        },
        {
         "_deepnote_index_column": 370,
         "season": "summer"
        },
        {
         "_deepnote_index_column": 371,
         "season": "autumn"
        },
        {
         "_deepnote_index_column": 372,
         "season": "summer"
        },
        {
         "_deepnote_index_column": 373,
         "season": "summer"
        },
        {
         "_deepnote_index_column": 374,
         "season": "summer"
        },
        {
         "_deepnote_index_column": 375,
         "season": "summer"
        },
        {
         "_deepnote_index_column": 376,
         "season": "summer"
        },
        {
         "_deepnote_index_column": 377,
         "season": "winter"
        },
        {
         "_deepnote_index_column": 378,
         "season": "summer"
        },
        {
         "_deepnote_index_column": 379,
         "season": "summer"
        },
        {
         "_deepnote_index_column": 380,
         "season": "summer"
        },
        {
         "_deepnote_index_column": 381,
         "season": "spring"
        },
        {
         "_deepnote_index_column": 382,
         "season": "summer"
        },
        {
         "_deepnote_index_column": 383,
         "season": "summer"
        },
        {
         "_deepnote_index_column": 384,
         "season": "summer"
        },
        {
         "_deepnote_index_column": 385,
         "season": "summer"
        },
        {
         "_deepnote_index_column": 386,
         "season": "winter"
        },
        {
         "_deepnote_index_column": 387,
         "season": "summer"
        },
        {
         "_deepnote_index_column": 388,
         "season": "summer"
        },
        {
         "_deepnote_index_column": 389,
         "season": "summer"
        },
        {
         "_deepnote_index_column": 390,
         "season": "summer"
        },
        {
         "_deepnote_index_column": 391,
         "season": "summer"
        },
        {
         "_deepnote_index_column": 392,
         "season": "summer"
        },
        {
         "_deepnote_index_column": 393,
         "season": "summer"
        },
        {
         "_deepnote_index_column": 394,
         "season": "summer"
        },
        {
         "_deepnote_index_column": 395,
         "season": "summer"
        },
        {
         "_deepnote_index_column": 396,
         "season": "summer"
        },
        {
         "_deepnote_index_column": 397,
         "season": "summer"
        },
        {
         "_deepnote_index_column": 398,
         "season": "summer"
        },
        {
         "_deepnote_index_column": 399,
         "season": "summer"
        },
        {
         "_deepnote_index_column": 400,
         "season": "summer"
        },
        {
         "_deepnote_index_column": 401,
         "season": "summer"
        },
        {
         "_deepnote_index_column": 402,
         "season": "spring"
        },
        {
         "_deepnote_index_column": 403,
         "season": "spring"
        },
        {
         "_deepnote_index_column": 404,
         "season": "spring"
        },
        {
         "_deepnote_index_column": 405,
         "season": "spring"
        },
        {
         "_deepnote_index_column": 406,
         "season": "spring"
        },
        {
         "_deepnote_index_column": 407,
         "season": "spring"
        },
        {
         "_deepnote_index_column": 408,
         "season": "summer"
        },
        {
         "_deepnote_index_column": 409,
         "season": "summer"
        },
        {
         "_deepnote_index_column": 410,
         "season": "spring"
        },
        {
         "_deepnote_index_column": 411,
         "season": "summer"
        },
        {
         "_deepnote_index_column": 412,
         "season": "summer"
        },
        {
         "_deepnote_index_column": 413,
         "season": "summer"
        },
        {
         "_deepnote_index_column": 414,
         "season": "summer"
        },
        {
         "_deepnote_index_column": 415,
         "season": "summer"
        },
        {
         "_deepnote_index_column": 416,
         "season": "summer"
        },
        {
         "_deepnote_index_column": 417,
         "season": "summer"
        },
        {
         "_deepnote_index_column": 418,
         "season": "summer"
        },
        {
         "_deepnote_index_column": 419,
         "season": "summer"
        },
        {
         "_deepnote_index_column": 420,
         "season": "summer"
        },
        {
         "_deepnote_index_column": 421,
         "season": "winter"
        },
        {
         "_deepnote_index_column": 422,
         "season": "summer"
        },
        {
         "_deepnote_index_column": 423,
         "season": "autumn"
        },
        {
         "_deepnote_index_column": 424,
         "season": "summer"
        },
        {
         "_deepnote_index_column": 425,
         "season": "summer"
        },
        {
         "_deepnote_index_column": 426,
         "season": "summer"
        },
        {
         "_deepnote_index_column": 427,
         "season": "summer"
        },
        {
         "_deepnote_index_column": 428,
         "season": "summer"
        },
        {
         "_deepnote_index_column": 429,
         "season": "summer"
        },
        {
         "_deepnote_index_column": 430,
         "season": "summer"
        },
        {
         "_deepnote_index_column": 431,
         "season": "summer"
        },
        {
         "_deepnote_index_column": 432,
         "season": "autumn"
        },
        {
         "_deepnote_index_column": 433,
         "season": "summer"
        },
        {
         "_deepnote_index_column": 434,
         "season": "summer"
        },
        {
         "_deepnote_index_column": 435,
         "season": "autumn"
        },
        {
         "_deepnote_index_column": 436,
         "season": "winter"
        },
        {
         "_deepnote_index_column": 437,
         "season": "spring"
        },
        {
         "_deepnote_index_column": 438,
         "season": "winter"
        },
        {
         "_deepnote_index_column": 439,
         "season": "summer"
        },
        {
         "_deepnote_index_column": 440,
         "season": "autumn"
        },
        {
         "_deepnote_index_column": 441,
         "season": "summer"
        },
        {
         "_deepnote_index_column": 442,
         "season": "autumn"
        },
        {
         "_deepnote_index_column": 443,
         "season": "summer"
        },
        {
         "_deepnote_index_column": 444,
         "season": "summer"
        },
        {
         "_deepnote_index_column": 445,
         "season": "winter"
        },
        {
         "_deepnote_index_column": 446,
         "season": "spring"
        },
        {
         "_deepnote_index_column": 447,
         "season": "autumn"
        },
        {
         "_deepnote_index_column": 448,
         "season": "winter"
        },
        {
         "_deepnote_index_column": 449,
         "season": "winter"
        },
        {
         "_deepnote_index_column": 450,
         "season": "winter"
        },
        {
         "_deepnote_index_column": 451,
         "season": "winter"
        },
        {
         "_deepnote_index_column": 452,
         "season": "winter"
        },
        {
         "_deepnote_index_column": 453,
         "season": "winter"
        },
        {
         "_deepnote_index_column": 454,
         "season": "summer"
        },
        {
         "_deepnote_index_column": 455,
         "season": "winter"
        },
        {
         "_deepnote_index_column": 456,
         "season": "summer"
        },
        {
         "_deepnote_index_column": 457,
         "season": "autumn"
        },
        {
         "_deepnote_index_column": 458,
         "season": "winter"
        },
        {
         "_deepnote_index_column": 459,
         "season": "summer"
        },
        {
         "_deepnote_index_column": 460,
         "season": "winter"
        },
        {
         "_deepnote_index_column": 461,
         "season": "summer"
        },
        {
         "_deepnote_index_column": 462,
         "season": "summer"
        },
        {
         "_deepnote_index_column": 463,
         "season": "summer"
        },
        {
         "_deepnote_index_column": 464,
         "season": "spring"
        },
        {
         "_deepnote_index_column": 465,
         "season": "summer"
        },
        {
         "_deepnote_index_column": 466,
         "season": "winter"
        },
        {
         "_deepnote_index_column": 467,
         "season": "winter"
        },
        {
         "_deepnote_index_column": 468,
         "season": "spring"
        },
        {
         "_deepnote_index_column": 469,
         "season": "winter"
        },
        {
         "_deepnote_index_column": 470,
         "season": "winter"
        },
        {
         "_deepnote_index_column": 471,
         "season": "winter"
        },
        {
         "_deepnote_index_column": 472,
         "season": "winter"
        },
        {
         "_deepnote_index_column": 473,
         "season": "winter"
        },
        {
         "_deepnote_index_column": 474,
         "season": "spring"
        },
        {
         "_deepnote_index_column": 475,
         "season": "summer"
        },
        {
         "_deepnote_index_column": 476,
         "season": "summer"
        },
        {
         "_deepnote_index_column": 477,
         "season": "spring"
        },
        {
         "_deepnote_index_column": 478,
         "season": "summer"
        },
        {
         "_deepnote_index_column": 479,
         "season": "winter"
        },
        {
         "_deepnote_index_column": 480,
         "season": "spring"
        },
        {
         "_deepnote_index_column": 481,
         "season": "winter"
        },
        {
         "_deepnote_index_column": 482,
         "season": "autumn"
        },
        {
         "_deepnote_index_column": 483,
         "season": "summer"
        },
        {
         "_deepnote_index_column": 484,
         "season": "spring"
        },
        {
         "_deepnote_index_column": 485,
         "season": "winter"
        },
        {
         "_deepnote_index_column": 486,
         "season": "autumn"
        },
        {
         "_deepnote_index_column": 487,
         "season": "spring"
        },
        {
         "_deepnote_index_column": 488,
         "season": "spring"
        },
        {
         "_deepnote_index_column": 489,
         "season": "autumn"
        },
        {
         "_deepnote_index_column": 490,
         "season": "autumn"
        },
        {
         "_deepnote_index_column": 491,
         "season": "winter"
        },
        {
         "_deepnote_index_column": 492,
         "season": "summer"
        },
        {
         "_deepnote_index_column": 493,
         "season": "summer"
        },
        {
         "_deepnote_index_column": 494,
         "season": "winter"
        },
        {
         "_deepnote_index_column": 495,
         "season": "autumn"
        },
        {
         "_deepnote_index_column": 496,
         "season": "autumn"
        },
        {
         "_deepnote_index_column": 497,
         "season": "spring"
        },
        {
         "_deepnote_index_column": 498,
         "season": "autumn"
        },
        {
         "_deepnote_index_column": 499,
         "season": "summer"
        }
       ]
      },
      "text/html": [
       "<div>\n",
       "<style scoped>\n",
       "    .dataframe tbody tr th:only-of-type {\n",
       "        vertical-align: middle;\n",
       "    }\n",
       "\n",
       "    .dataframe tbody tr th {\n",
       "        vertical-align: top;\n",
       "    }\n",
       "\n",
       "    .dataframe thead th {\n",
       "        text-align: right;\n",
       "    }\n",
       "</style>\n",
       "<table border=\"1\" class=\"dataframe\">\n",
       "  <thead>\n",
       "    <tr style=\"text-align: right;\">\n",
       "      <th></th>\n",
       "      <th>season</th>\n",
       "    </tr>\n",
       "  </thead>\n",
       "  <tbody>\n",
       "    <tr>\n",
       "      <th>0</th>\n",
       "      <td>summer</td>\n",
       "    </tr>\n",
       "    <tr>\n",
       "      <th>1</th>\n",
       "      <td>winter</td>\n",
       "    </tr>\n",
       "    <tr>\n",
       "      <th>2</th>\n",
       "      <td>summer</td>\n",
       "    </tr>\n",
       "    <tr>\n",
       "      <th>3</th>\n",
       "      <td>summer</td>\n",
       "    </tr>\n",
       "    <tr>\n",
       "      <th>4</th>\n",
       "      <td>autumn</td>\n",
       "    </tr>\n",
       "    <tr>\n",
       "      <th>...</th>\n",
       "      <td>...</td>\n",
       "    </tr>\n",
       "    <tr>\n",
       "      <th>11028</th>\n",
       "      <td>autumn</td>\n",
       "    </tr>\n",
       "    <tr>\n",
       "      <th>11029</th>\n",
       "      <td>spring</td>\n",
       "    </tr>\n",
       "    <tr>\n",
       "      <th>11030</th>\n",
       "      <td>autumn</td>\n",
       "    </tr>\n",
       "    <tr>\n",
       "      <th>11031</th>\n",
       "      <td>spring</td>\n",
       "    </tr>\n",
       "    <tr>\n",
       "      <th>11032</th>\n",
       "      <td>winter</td>\n",
       "    </tr>\n",
       "  </tbody>\n",
       "</table>\n",
       "<p>11033 rows × 1 columns</p>\n",
       "</div>"
      ],
      "text/plain": [
       "       season\n",
       "0      summer\n",
       "1      winter\n",
       "2      summer\n",
       "3      summer\n",
       "4      autumn\n",
       "...       ...\n",
       "11028  autumn\n",
       "11029  spring\n",
       "11030  autumn\n",
       "11031  spring\n",
       "11032  winter\n",
       "\n",
       "[11033 rows x 1 columns]"
      ]
     },
     "execution_count": 6,
     "metadata": {},
     "output_type": "execute_result"
    }
   ],
   "source": [
    "def season_of_date(date,lat):\n",
    "    year = str(date.year)\n",
    "    date = date.strftime('%Y-%m-%d')\n",
    "    if(lat>0): #bắc bán cầu\n",
    "        seasons = {'spring': pd.date_range(start='21/03/'+year, end='20/06/'+year).strftime('%Y-%m-%d'),\n",
    "                'summer': pd.date_range(start='21/06/'+year, end='22/09/'+year).strftime('%Y-%m-%d'),\n",
    "                'autumn': pd.date_range(start='23/09/'+year, end='20/12/'+year).strftime('%Y-%m-%d')}\n",
    "        if date in seasons['spring']:\n",
    "            return 'spring'\n",
    "        if date in seasons['summer']:\n",
    "            return 'summer'\n",
    "        if date in seasons['autumn']:\n",
    "            return 'autumn'\n",
    "        else:\n",
    "            return 'winter' #đông chí: 21/12\n",
    "\n",
    "    else: #nam bán cầu\n",
    "        seasons = {'autumn': pd.date_range(start='21/03/'+year, end='20/06/'+year).strftime('%Y-%m-%d'),\n",
    "                'winter': pd.date_range(start='21/06/'+year, end='22/09/'+year).strftime('%Y-%m-%d'),\n",
    "                'spring': pd.date_range(start='23/09/'+year, end='20/12/'+year).strftime('%Y-%m-%d')}\n",
    "        if date in seasons['spring']:\n",
    "            return 'spring'\n",
    "        if date in seasons['winter']:\n",
    "            return 'winter'\n",
    "        if date in seasons['autumn']:\n",
    "            return 'autumn'\n",
    "        else:\n",
    "            return 'summer' #hạ chí: 21/12\n",
    "\n",
    "# Assuming df has a date column of type `datetime`\n",
    "season = [season_of_date(df['event_date'][i],df['latitude'][i]) for i in range(df.shape[0])]\n",
    "season = pd.DataFrame({'season':season})\n",
    "season\n",
    "season.to_csv('/work/data/features/season.csv',index=False)"
   ]
  },
  {
   "cell_type": "markdown",
   "metadata": {
    "cell_id": "00022-4734e910-2306-467e-bf96-c986ac4520a3",
    "deepnote_cell_type": "text-cell-h3",
    "is_collapsed": true,
    "tags": []
   },
   "source": [
    "### Forest"
   ]
  },
  {
   "cell_type": "code",
   "execution_count": null,
   "metadata": {
    "cell_id": "00023-7bc7be77-0e4a-4968-a511-06215f6da6ce",
    "deepnote_cell_type": "code",
    "tags": []
   },
   "outputs": [],
   "source": [
    "import ee\n",
    "ee.Authenticate()\n",
    "ee.Initialize()"
   ]
  },
  {
   "cell_type": "code",
   "execution_count": null,
   "metadata": {
    "cell_id": "00024-9a484001-8e8b-4579-a715-4d2c05d0876a",
    "deepnote_cell_type": "code",
    "tags": []
   },
   "outputs": [],
   "source": [
    "from copy import deepcopy\n",
    "forest_data = {'treecover2000' : [],\n",
    "'loss' : [],\n",
    "'gain' : [],\n",
    "'lossyear' : [],\n",
    "'first_b30':[],\n",
    "'first_b40':[],\n",
    "'first_b50':[],\n",
    "'first_b70':[],\n",
    "'last_b30':[],\n",
    "'last_b40':[],\n",
    "'last_b50':[],\n",
    "'last_b70':[]}\n",
    "\n",
    "fr1 = deepcopy(forest_data)\n",
    "fr2 = deepcopy(forest_data)\n",
    "fr3 = deepcopy(forest_data)\n",
    "fr4 = deepcopy(forest_data)\n",
    "fr5 = deepcopy(forest_data)\n",
    "fr6 = deepcopy(forest_data)\n",
    "fr7 = deepcopy(forest_data)\n",
    "fr8 = deepcopy(forest_data)"
   ]
  },
  {
   "cell_type": "code",
   "execution_count": null,
   "metadata": {
    "cell_id": "00025-a3fb0c5c-668b-491d-993b-e6f0134374d4",
    "deepnote_cell_type": "code",
    "tags": []
   },
   "outputs": [],
   "source": [
    "import sys\n",
    "\n",
    "def get_fr(fr,idx):\n",
    "    im1 = ee.Image('UMD/hansen/global_forest_change_2020_v1_8')\n",
    "    for i in range(idx[0],idx[1]):\n",
    "        print(i)\n",
    "        lon, lat = df['longitude'][i],df['latitude'][i]\n",
    "        p = ee.Geometry.Point(lon,lat)\n",
    "        for i in fr:\n",
    "            data = im1.select(i).reduceRegion(ee.Reducer.first(),p,18).get(i)\n",
    "            dataN = ee.Number(data).getInfo()\n",
    "            fr[i].append(dataN)"
   ]
  },
  {
   "cell_type": "code",
   "execution_count": null,
   "metadata": {
    "cell_id": "00027-7c78953b-4e11-4c3a-9cf7-edcc6503707c",
    "deepnote_cell_type": "code",
    "tags": []
   },
   "outputs": [],
   "source": [
    "import threading\n",
    "\n",
    "p1 = threading.Thread(target=get_fr, args=(fr1,(0,1379)))\n",
    "p2 = threading.Thread(target=get_fr, args=(fr2,(1379,2758)))\n",
    "p3 = threading.Thread(target=get_fr, args=(fr3,(2758,4137)))\n",
    "p4 = threading.Thread(target=get_fr, args=(fr4,(4137,5516)))\n",
    "\n",
    "p5 = threading.Thread(target=get_fr, args=(fr5,(5516,6895)))\n",
    "p6 = threading.Thread(target=get_fr, args=(fr6,(6895,8274)))\n",
    "p7 = threading.Thread(target=get_fr, args=(fr7,(8274,9653)))\n",
    "p8 = threading.Thread(target=get_fr, args=(fr8,(9653,11033)))\n",
    "\n",
    "\n",
    "p1.start()\n",
    "p2.start()\n",
    "p3.start()\n",
    "p4.start()\n",
    "\n",
    "p5.start()\n",
    "p6.start()\n",
    "p7.start()\n",
    "p8.start()"
   ]
  },
  {
   "cell_type": "code",
   "execution_count": null,
   "metadata": {
    "cell_id": "00028-bc17b0df-ccfd-480e-9287-7dba0b45861e",
    "deepnote_cell_type": "code",
    "tags": []
   },
   "outputs": [],
   "source": [
    "for key in forest_data:\n",
    "    forest_data[key]+=fr1[key]+fr2[key]+fr3[key]+fr4[key]+fr5[key]+fr6[key]+fr7[key]+fr8[key]"
   ]
  },
  {
   "cell_type": "code",
   "execution_count": null,
   "metadata": {
    "cell_id": "00029-e1eac62d-826f-4469-8521-90e5edc13fff",
    "deepnote_cell_type": "code",
    "tags": []
   },
   "outputs": [],
   "source": [
    "forest_data = pd.DataFrame(forest_data)\n",
    "forest_data = forest_data[['treecover2000','loss','gain']]\n",
    "forest_data.to_csv('/work/data/features/forest.csv',index=False)"
   ]
  },
  {
   "cell_type": "markdown",
   "metadata": {
    "cell_id": "00030-5f8f8704-c534-4637-b06e-9122fc44bf0e",
    "deepnote_cell_type": "text-cell-h3",
    "is_collapsed": true,
    "tags": []
   },
   "source": [
    "### Soil Texture"
   ]
  },
  {
   "cell_type": "code",
   "execution_count": null,
   "metadata": {
    "cell_id": "00030-17d63ece-a481-4020-97e8-fb6a6675d4b9",
    "deepnote_cell_type": "code",
    "tags": []
   },
   "outputs": [],
   "source": [
    "import ee\n",
    "ee.Authenticate()\n",
    "ee.Initialize()"
   ]
  },
  {
   "cell_type": "code",
   "execution_count": null,
   "metadata": {
    "cell_id": "00032-a3ddc6b0-3a96-4e71-b39e-d361a90e32ca",
    "deepnote_cell_type": "code",
    "tags": []
   },
   "outputs": [],
   "source": [
    "from copy import deepcopy\n",
    "soil_data = {'b0' : [],\n",
    "            'b10' : [],\n",
    "            'b30' : [],\n",
    "            'b60' : [],\n",
    "            'b100':[],\n",
    "            'b200':[]}\n",
    "\n",
    "s1 = deepcopy(soil_data)\n",
    "s2 = deepcopy(soil_data)\n",
    "s3 = deepcopy(soil_data)\n",
    "s4 = deepcopy(soil_data)\n",
    "s5 = deepcopy(soil_data)\n",
    "s6 = deepcopy(soil_data)\n",
    "s7 = deepcopy(soil_data)\n",
    "s8 = deepcopy(soil_data)"
   ]
  },
  {
   "cell_type": "code",
   "execution_count": null,
   "metadata": {
    "cell_id": "00033-e2187e90-eec8-4bb3-93c4-40c090e659a2",
    "deepnote_cell_type": "code",
    "tags": []
   },
   "outputs": [],
   "source": [
    "def get_soil(s,idx):\n",
    "    im1 = ee.Image('OpenLandMap/SOL/SOL_TEXTURE-CLASS_USDA-TT_M/v02')\n",
    "    texture = dict(list(s1.items())[:6])\n",
    "    for i in range(idx[0],idx[1]):\n",
    "        lon, lat = df['longitude'][i],df['latitude'][i]\n",
    "        p = ee.Geometry.Point(lon,lat)\n",
    "        for i in texture:\n",
    "            data = im1.select(i).reduceRegion(ee.Reducer.first(),p,18).get(i)\n",
    "            dataN = ee.Number(data).getInfo()\n",
    "            s[i].append(dataN)"
   ]
  },
  {
   "cell_type": "code",
   "execution_count": null,
   "metadata": {
    "cell_id": "00034-0a8dabd2-259c-4139-a971-e6373af92b1c",
    "deepnote_cell_type": "code",
    "tags": []
   },
   "outputs": [],
   "source": [
    "import threading\n",
    "\n",
    "p1 = threading.Thread(target=get_soil, args=(s1,(0,1379)))\n",
    "p2 = threading.Thread(target=get_soil, args=(s2,(1379,2758)))\n",
    "p3 = threading.Thread(target=get_soil, args=(s3,(2758,4137)))\n",
    "p4 = threading.Thread(target=get_soil, args=(s4,(4137,5516)))\n",
    "\n",
    "p5 = threading.Thread(target=get_soil, args=(s5,(5516,6895)))\n",
    "p6 = threading.Thread(target=get_soil, args=(s6,(6895,8274)))\n",
    "p7 = threading.Thread(target=get_soil, args=(s7,(8274,9653)))\n",
    "p8 = threading.Thread(target=get_soil, args=(s8,(9653,11033)))\n",
    "\n",
    "p1.start()\n",
    "p2.start()\n",
    "p3.start()\n",
    "p4.start()\n",
    "\n",
    "p5.start()\n",
    "p6.start()\n",
    "p7.start()\n",
    "p8.start()"
   ]
  },
  {
   "cell_type": "code",
   "execution_count": null,
   "metadata": {
    "cell_id": "00035-d3a04ff6-d99d-4d0e-99f4-cc90c4c0a594",
    "deepnote_cell_type": "code",
    "tags": []
   },
   "outputs": [],
   "source": [
    "for key in soil_data:\n",
    "    soil_data[key]+=s1[key]+s2[key]+s3[key]+s4[key]+s5[key]+s6[key]+s7[key]+s8[key]"
   ]
  },
  {
   "cell_type": "code",
   "execution_count": null,
   "metadata": {
    "cell_id": "00036-04be8be0-7baa-4449-b86c-489d854176f4",
    "deepnote_cell_type": "code",
    "tags": []
   },
   "outputs": [],
   "source": [
    "soil_df = pd.DataFrame(soil_data)\n",
    "soil_df = soil_df.rename(columns={'b0': 'soil_texture_0',\n",
    "                        'b10': 'soil_texture_10',\n",
    "                        'b30': 'soil_texture_30',\n",
    "                        'b60': 'soil_texture_60',\n",
    "                        'b100': 'soil_texture_100',\n",
    "                        'b200': 'soil_texture_200'}, inplace=False)\n",
    "\n",
    "replace_values = {\n",
    "1\t:\t'Cl',\n",
    "2\t:\t'SiCl',\n",
    "3\t:\t'SaCl',\n",
    "4\t:\t'ClLo',\n",
    "5\t:\t'SiClLo',\n",
    "6\t:\t'SaClLo',\n",
    "7\t:\t'Lo',\n",
    "8\t:\t'SiLo',\n",
    "9\t:\t'SaLo',\n",
    "10\t:\t'Si',\n",
    "11\t:\t'LoSa',\n",
    "12\t:\t'Sa'}\n",
    "\n",
    "for i in soil_df.columns:\n",
    "    soil_df = soil_df.replace({i: replace_values})\n",
    "\n",
    "soil_df.to_csv('/work/data/features/soil_texture.csv',index=False)"
   ]
  },
  {
   "cell_type": "markdown",
   "metadata": {
    "cell_id": "00037-32a8d572-e08e-48e9-af51-754695f7fecd",
    "deepnote_cell_type": "text-cell-h3",
    "is_collapsed": true,
    "tags": []
   },
   "source": [
    "### Population Density"
   ]
  },
  {
   "cell_type": "code",
   "execution_count": null,
   "metadata": {
    "cell_id": "00038-2921f516-6e89-4340-b5e3-66ce9420253c",
    "deepnote_cell_type": "code",
    "tags": []
   },
   "outputs": [],
   "source": [
    "import ee\n",
    "ee.Authenticate()\n",
    "ee.Initialize()"
   ]
  },
  {
   "cell_type": "code",
   "execution_count": null,
   "metadata": {
    "cell_id": "00039-752ee96f-0eec-47bd-979f-0a0947716473",
    "deepnote_cell_type": "code",
    "tags": []
   },
   "outputs": [],
   "source": [
    "import numpy as np\n",
    "def get_ppd(s,idx):\n",
    "    dataset = ee.ImageCollection(\"CIESIN/GPWv411/GPW_UNWPP-Adjusted_Population_Density\")\n",
    "    listOfImages = dataset.toList(dataset.size());\n",
    "    img1 = ee.Image(listOfImages.get(0))\n",
    "    img2 = ee.Image(listOfImages.get(1))\n",
    "    img3 = ee.Image(listOfImages.get(2))\n",
    "    img4 = ee.Image(listOfImages.get(3))\n",
    "    img5 = ee.Image(listOfImages.get(4))\n",
    "\n",
    "    for i in range(idx[0],idx[1]):\n",
    "        lon, lat = df['longitude'][i],df['latitude'][i]\n",
    "        p = ee.Geometry.Point(lon,lat)\n",
    "        img = [img1,img2,img3,img4,img5]\n",
    "        for j in range(5):\n",
    "            tmp = img[j]\n",
    "            data = tmp.select('unwpp-adjusted_population_density').reduceRegion(ee.Reducer.first(),p,18).get('unwpp-adjusted_population_density')\n",
    "            dataN = ee.Number(data)\n",
    "            img[j] = dataN.getInfo()\n",
    "\n",
    "        for idx,i in enumerate(s):\n",
    "            s[i].append(img[idx])\n",
    "        # img = list(filter(None, img))\n",
    "        # s.append(np.mean(img))"
   ]
  },
  {
   "cell_type": "code",
   "execution_count": null,
   "metadata": {
    "cell_id": "00040-837649e3-5c5a-4ffe-9df9-3f8062bb8783",
    "deepnote_cell_type": "code",
    "tags": []
   },
   "outputs": [],
   "source": [
    "from copy import deepcopy\n",
    "population_dense =  {'population_density_2000' : [],\n",
    "                    'population_density_2005' : [],\n",
    "                    'population_density_2010' : [],\n",
    "                    'population_density_2015' : [],\n",
    "                    'population_density_2020':[]}\n",
    "\n",
    "s1 = deepcopy(population_dense)\n",
    "s2 = deepcopy(population_dense)\n",
    "s3 = deepcopy(population_dense)\n",
    "s4 = deepcopy(population_dense)\n",
    "s5 = deepcopy(population_dense)\n",
    "s6 = deepcopy(population_dense)\n",
    "s7 = deepcopy(population_dense)\n",
    "s8 = deepcopy(population_dense)"
   ]
  },
  {
   "cell_type": "code",
   "execution_count": null,
   "metadata": {
    "cell_id": "00041-986f7f63-44cf-40ae-b05e-af3bd6ff1b61",
    "deepnote_cell_type": "code",
    "tags": []
   },
   "outputs": [],
   "source": [
    "import threading\n",
    "\n",
    "p1 = threading.Thread(target=get_ppd, args=(s1,(0,1379)))\n",
    "p2 = threading.Thread(target=get_ppd, args=(s2,(1379,2758)))\n",
    "p3 = threading.Thread(target=get_ppd, args=(s3,(2758,4137)))\n",
    "p4 = threading.Thread(target=get_ppd, args=(s4,(4137,5516)))\n",
    "\n",
    "p5 = threading.Thread(target=get_ppd, args=(s5,(5516,6895)))\n",
    "p6 = threading.Thread(target=get_ppd, args=(s6,(6895,8274)))\n",
    "p7 = threading.Thread(target=get_ppd, args=(s7,(8274,9653)))\n",
    "p8 = threading.Thread(target=get_ppd, args=(s8,(9653,11033)))\n",
    "\n",
    "p1.start()\n",
    "p2.start()\n",
    "p3.start()\n",
    "p4.start()\n",
    "\n",
    "p5.start()\n",
    "p6.start()\n",
    "p7.start()\n",
    "p8.start()"
   ]
  },
  {
   "cell_type": "code",
   "execution_count": null,
   "metadata": {
    "cell_id": "00042-7b152389-184c-42bb-b022-0fb43afb38a7",
    "deepnote_cell_type": "code",
    "tags": []
   },
   "outputs": [],
   "source": [
    "for key in population_dense:\n",
    "    population_dense[key]+=s1[key]+s2[key]+s3[key]+s4[key]+s5[key]+s6[key]+s7[key]+s8[key]"
   ]
  },
  {
   "cell_type": "code",
   "execution_count": null,
   "metadata": {
    "cell_id": "00043-3a7a8404-b0d7-4cdc-af4d-72bcc1b00eb7",
    "deepnote_cell_type": "code",
    "tags": []
   },
   "outputs": [],
   "source": [
    "population_dense_df = pd.DataFrame(population_dense)\n",
    "population_dense_df.to_csv('/work/data/features/population_density.csv',index=False)"
   ]
  },
  {
   "cell_type": "markdown",
   "metadata": {
    "cell_id": "00044-e620db29-d4e5-4c35-a156-6ba8e682fca1",
    "deepnote_cell_type": "text-cell-h1",
    "is_collapsed": false,
    "tags": []
   },
   "source": [
    "# Merge features into one dataset"
   ]
  },
  {
   "cell_type": "code",
   "execution_count": 5,
   "metadata": {
    "cell_id": "00044-77a4b08a-12b7-44b6-9279-2257fae6cd18",
    "deepnote_cell_type": "code",
    "deepnote_to_be_reexecuted": false,
    "execution_millis": 299,
    "execution_start": 1638070059407,
    "source_hash": "fd64e3c5",
    "tags": []
   },
   "outputs": [],
   "source": [
    "glc = pd.read_csv('/work/data/landslide/Global_Landslide_Catalog_Export.csv')\n",
    "weather = pd.read_csv('/work/data/weather/weather_full.csv')\n",
    "weather_new = weather.drop(['solarenergy','preciptype','precipprob','solarradiation','snow','snowdepth','uvindex',\n",
    "'description','icon','datetime','sunrise','sunriseEpoch','sunset','sunsetEpoch','datetimeEpoch','event_id'],axis=1)\n",
    "\n",
    "elevation = pd.read_csv('/work/data/features/elevation.csv')\n",
    "continents = pd.read_csv('/work/data/features/continents.csv')\n",
    "season = pd.read_csv('/work/data/features/season.csv')\n",
    "forest = pd.read_csv('/work/data/features/forest.csv')\n",
    "soil = pd.read_csv('/work/data/features/soil_texture.csv')\n",
    "ppd = pd.read_csv('/work/data/features/population_density.csv')"
   ]
  },
  {
   "cell_type": "code",
   "execution_count": 8,
   "metadata": {
    "cell_id": "00045-03841285-81f1-4ec3-940f-cc0e4b5be500",
    "deepnote_cell_type": "code",
    "deepnote_output_heights": [
     21.1875
    ],
    "deepnote_to_be_reexecuted": false,
    "execution_millis": 61,
    "execution_start": 1638070159556,
    "source_hash": "8edda8cf",
    "tags": []
   },
   "outputs": [
    {
     "name": "stdout",
     "output_type": "stream",
     "text": [
      "(11033, 67)\n"
     ]
    }
   ],
   "source": [
    "dataset = pd.concat([glc,weather_new,elevation,continents,season,forest,soil,ppd],axis=1)\n",
    "dataset.to_csv('/work/data/landslide/GLC_features.csv',index=False)\n",
    "print(dataset.shape)"
   ]
  },
  {
   "cell_type": "markdown",
   "metadata": {
    "created_in_deepnote_cell": true,
    "deepnote_cell_type": "markdown",
    "tags": []
   },
   "source": [
    "<a style='text-decoration:none;line-height:16px;display:flex;color:#5B5B62;padding:10px;justify-content:end;' href='https://deepnote.com?utm_source=created-in-deepnote-cell&projectId=a3127b5d-0424-48ff-88d6-e1f4925737c1' target=\"_blank\">\n",
    "<img alt='Created in deepnote.com' style='display:inline;max-height:16px;margin:0px;margin-right:7.5px;' src='data:image/svg+xml;base64,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' > </img>\n",
    "Created in <span style='font-weight:600;margin-left:4px;'>Deepnote</span></a>"
   ]
  }
 ],
 "metadata": {
  "deepnote": {
   "is_reactive": false
  },
  "deepnote_execution_queue": [],
  "deepnote_notebook_id": "3ba97966-53bc-4edd-bdcd-8a0dab5899a4",
  "kernelspec": {
   "display_name": "Python 3 (ipykernel)",
   "language": "python",
   "name": "python3"
  },
  "language_info": {
   "codemirror_mode": {
    "name": "ipython",
    "version": 3
   },
   "file_extension": ".py",
   "mimetype": "text/x-python",
   "name": "python",
   "nbconvert_exporter": "python",
   "pygments_lexer": "ipython3",
   "version": "3.8.5"
  }
 },
 "nbformat": 4,
 "nbformat_minor": 4
}
