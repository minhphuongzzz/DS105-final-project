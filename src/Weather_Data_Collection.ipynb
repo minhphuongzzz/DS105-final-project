{
 "cells": [
  {
   "cell_type": "markdown",
   "metadata": {
    "id": "C4vARx752kzm"
   },
   "source": [
    "* Source code dùng để lấy dữ liệu từ Visual Crossing API\n",
    "* Output của notebook này là file weather.csv tổng hợp từ weather_0_3970.csv, weather_3971_7501.csv và weather_7502_11032.csv\n",
    "* LƯU Ý: Sử dụng file GLC_preprocessed_1.csv (đã xử lý country_name và datetime) để thực hiện crawl dữ liệu\n"
   ]
  },
  {
   "cell_type": "code",
   "execution_count": null,
   "metadata": {
    "id": "i1UvQOGE72Z_"
   },
   "outputs": [],
   "source": [
    "import requests\n",
    "import pandas as pd\n",
    "from collections import defaultdict"
   ]
  },
  {
   "cell_type": "code",
   "execution_count": null,
   "metadata": {
    "id": "uQ83h3jM_KCD"
   },
   "outputs": [],
   "source": [
    "df = pd.read_csv('/content/GLC_preprocessed_1.csv')"
   ]
  },
  {
   "cell_type": "markdown",
   "metadata": {
    "id": "nAqOBhoa3qHy"
   },
   "source": [
    "# 1. weather_0_3970.csv"
   ]
  },
  {
   "cell_type": "code",
   "execution_count": null,
   "metadata": {
    "id": "HDy-H5zo7JeV"
   },
   "outputs": [],
   "source": [
    "weather = defaultdict(list)\n",
    "API = 'F87HGQJ8MRULVGLM7QGQWKW6E'\n",
    "\n",
    "for i in range(df.shape[0])[0:3971]:\n",
    "  print(i)\n",
    "  date = df['event_date'][i][:10]\n",
    "  lat = df['latitude'][i]\n",
    "  long_ = df['longitude'][i]\n",
    "\n",
    "  response = requests.get(\"https://weather.visualcrossing.com/VisualCrossingWebServices/rest/services/timeline/{},{}/{}?unitGroup=metric&key={}&include=obs\".format(lat,long_,date,API))\n",
    "  res = response.json()\n",
    "  weather_data = res['days'][0]\n",
    "  for key, val in weather_data.items():\n",
    "      weather[key].append(val)"
   ]
  },
  {
   "cell_type": "code",
   "execution_count": null,
   "metadata": {
    "id": "IR7sfrmf_4ZG"
   },
   "outputs": [],
   "source": [
    "weather.pop('source')\n",
    "weather_df = pd.DataFrame(weather)\n",
    "weather_df.insert(loc=0, column='event_id', value=df['event_id'][0:3971])\n",
    "weather_df.to_csv('weather_0-3970.csv',index=False)"
   ]
  },
  {
   "cell_type": "markdown",
   "metadata": {
    "id": "kE9uHeHd3uJX"
   },
   "source": [
    "# 2. weather_3971_7501.csv\n"
   ]
  },
  {
   "cell_type": "code",
   "execution_count": null,
   "metadata": {
    "colab": {
     "base_uri": "https://localhost:8080/"
    },
    "id": "6xdzqg96AcpT",
    "outputId": "79cf51ea-6e33-4b56-a00d-5ddf4ce48d1f"
   },
   "outputs": [
    {
     "name": "stdout",
     "output_type": "stream",
     "text": [
      "4991\n",
      "4992\n",
      "4993\n",
      "4994\n",
      "4995\n",
      "4996\n",
      "4997\n",
      "4998\n",
      "4999\n",
      "5000\n"
     ]
    }
   ],
   "source": [
    "weather = defaultdict(list)\n",
    "API = \"GAKSX8FZS298BZNTERTH2PZRD\" # 3971-5000 #5001-5203 #5204-6227 #6228-7233 #7234-7501\n",
    "\n",
    "for i in range(df.shape[0])[4991:5001]:\n",
    "  print(i)\n",
    "  date = df['event_date'][i][:10]\n",
    "  lat = df['latitude'][i]\n",
    "  long_ = df['longitude'][i]\n",
    "\n",
    "  response = requests.get(\"https://weather.visualcrossing.com/VisualCrossingWebServices/rest/services/timeline/{},{}/{}?unitGroup=metric&key={}&include=obs\".format(lat,long_,date,API))\n",
    "  res = response.json()\n",
    "  weather_data = res['days'][0]\n",
    "  for key, val in weather_data.items():\n",
    "      weather[key].append(val)"
   ]
  },
  {
   "cell_type": "code",
   "execution_count": null,
   "metadata": {
    "id": "JEAD0NJeAcpc"
   },
   "outputs": [],
   "source": [
    "weather.pop('source')\n",
    "weather_df = pd.DataFrame(weather)\n",
    "weather_df.insert(loc=0, column='event_id', value=df['event_id'][4991:5001].values)\n",
    "weather_df.to_csv('weather_4991-5000.csv',index=False)"
   ]
  },
  {
   "cell_type": "markdown",
   "metadata": {
    "id": "yCxk6vSY3yhi"
   },
   "source": [
    "# 3. weather_7502_11032.csv"
   ]
  },
  {
   "cell_type": "code",
   "execution_count": null,
   "metadata": {
    "id": "vyD4VihiBLmI"
   },
   "outputs": [],
   "source": [
    "weather = defaultdict(list)\n",
    "API = 'F87HGQJ8MRULVGLM7QGQWKW6E'\n",
    "\n",
    "for i in range(df.shape[0])[7502:11033]:\n",
    "  print(i)\n",
    "  date = df['event_date'][i][:10]\n",
    "  lat = df['latitude'][i]\n",
    "  long_ = df['longitude'][i]\n",
    "\n",
    "  response = requests.get(\"https://weather.visualcrossing.com/VisualCrossingWebServices/rest/services/timeline/{},{}/{}?unitGroup=metric&key={}&include=obs\".format(lat,long_,date,API))\n",
    "  res = response.json()\n",
    "  weather_data = res['days'][0]\n",
    "  for key, val in weather_data.items():\n",
    "      weather[key].append(val)"
   ]
  },
  {
   "cell_type": "code",
   "execution_count": null,
   "metadata": {
    "id": "B0bhea0EBLmM"
   },
   "outputs": [],
   "source": [
    "weather.pop('source')\n",
    "weather_df = pd.DataFrame(weather)\n",
    "weather_df.insert(loc=0, column='event_id', value=df['event_id'][7502:11033].values)\n",
    "weather_df.to_csv('weather_7502-11032.csv',index=False)"
   ]
  },
  {
   "cell_type": "markdown",
   "metadata": {
    "id": "VajDRUUU33sB"
   },
   "source": [
    "# 4. weather.csv"
   ]
  },
  {
   "cell_type": "code",
   "execution_count": null,
   "metadata": {
    "id": "JufgphuoK-4g"
   },
   "outputs": [],
   "source": [
    "import os\n",
    "import glob\n",
    "import pandas as pd\n",
    "os.chdir('/content/crawled_weather')\n"
   ]
  },
  {
   "cell_type": "code",
   "execution_count": null,
   "metadata": {
    "id": "7aHsDphYzUwr"
   },
   "outputs": [],
   "source": [
    "all_filenames = [i for i in glob.glob('*.{}'.format('csv'))]\n",
    "df_weather_full = pd.concat([pd.read_csv(f) for f in all_filenames], ignore_index=True)\n",
    "df_weather_full.to_csv('weather_full.csv', index=False)"
   ]
  },
  {
   "cell_type": "code",
   "execution_count": null,
   "metadata": {
    "id": "_Vo0F3huzW_O"
   },
   "outputs": [],
   "source": [
    "df_weather_full.info()"
   ]
  }
 ],
 "metadata": {
  "colab": {
   "collapsed_sections": [],
   "name": "Weather_Data_Collection.ipynb",
   "provenance": []
  },
  "kernelspec": {
   "display_name": "Python 3 (ipykernel)",
   "language": "python",
   "name": "python3"
  },
  "language_info": {
   "codemirror_mode": {
    "name": "ipython",
    "version": 3
   },
   "file_extension": ".py",
   "mimetype": "text/x-python",
   "name": "python",
   "nbconvert_exporter": "python",
   "pygments_lexer": "ipython3",
   "version": "3.8.5"
  }
 },
 "nbformat": 4,
 "nbformat_minor": 4
}
